{
  "cells": [
    {
      "cell_type": "markdown",
      "metadata": {
        "id": "9wFLSCDFPUMZ"
      },
      "source": [
        "# Neural Machine Translation \n",
        "![dd.png](data:image/png;base64,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)"
      ]
    },
    {
      "cell_type": "markdown",
      "metadata": {
        "id": "dTf9YLCFzjtL"
      },
      "source": [
        "### Import Required Libraries"
      ]
    },
    {
      "cell_type": "code",
      "execution_count": null,
      "metadata": {
        "id": "gJIM0AhuzjtR"
      },
      "outputs": [],
      "source": [
        "import string\n",
        "import re\n",
        "from numpy import array, argmax, random, take\n",
        "import pandas as pd\n",
        "from keras.models import Sequential\n",
        "from keras.layers import Dense, LSTM, Embedding, Bidirectional, RepeatVector, TimeDistributed\n",
        "from keras.preprocessing.text import Tokenizer\n",
        "import numpy as np\n",
        "from keras.callbacks import ModelCheckpoint\n",
        "from tensorflow.keras.preprocessing.sequence import pad_sequences\n",
        "from keras.models import load_model\n",
        "from keras import optimizers\n",
        "import matplotlib.pyplot as plt"
      ]
    },
    {
      "cell_type": "markdown",
      "metadata": {
        "id": "NwiQaXPYJ8ZX"
      },
      "source": [
        "#### Download Data"
      ]
    },
    {
      "cell_type": "code",
      "execution_count": null,
      "metadata": {
        "colab": {
          "base_uri": "https://localhost:8080/"
        },
        "id": "OfdxfKGJBYIN",
        "outputId": "aab66581-b26c-4c55-cc73-ec0ef33cd0ce"
      },
      "outputs": [
        {
          "output_type": "stream",
          "name": "stdout",
          "text": [
            "Looking in indexes: https://pypi.org/simple, https://us-python.pkg.dev/colab-wheels/public/simple/\n",
            "Requirement already satisfied: gdown in /usr/local/lib/python3.9/dist-packages (4.4.0)\n",
            "Collecting gdown\n",
            "  Downloading gdown-4.6.4-py3-none-any.whl (14 kB)\n",
            "Requirement already satisfied: filelock in /usr/local/lib/python3.9/dist-packages (from gdown) (3.9.0)\n",
            "Requirement already satisfied: requests[socks] in /usr/local/lib/python3.9/dist-packages (from gdown) (2.25.1)\n",
            "Requirement already satisfied: tqdm in /usr/local/lib/python3.9/dist-packages (from gdown) (4.65.0)\n",
            "Requirement already satisfied: beautifulsoup4 in /usr/local/lib/python3.9/dist-packages (from gdown) (4.9.3)\n",
            "Requirement already satisfied: six in /usr/local/lib/python3.9/dist-packages (from gdown) (1.15.0)\n",
            "Requirement already satisfied: soupsieve>1.2 in /usr/local/lib/python3.9/dist-packages (from beautifulsoup4->gdown) (2.4)\n",
            "Requirement already satisfied: urllib3<1.27,>=1.21.1 in /usr/local/lib/python3.9/dist-packages (from requests[socks]->gdown) (1.26.15)\n",
            "Requirement already satisfied: certifi>=2017.4.17 in /usr/local/lib/python3.9/dist-packages (from requests[socks]->gdown) (2022.12.7)\n",
            "Requirement already satisfied: idna<3,>=2.5 in /usr/local/lib/python3.9/dist-packages (from requests[socks]->gdown) (2.10)\n",
            "Requirement already satisfied: chardet<5,>=3.0.2 in /usr/local/lib/python3.9/dist-packages (from requests[socks]->gdown) (4.0.0)\n",
            "Requirement already satisfied: PySocks!=1.5.7,>=1.5.6 in /usr/local/lib/python3.9/dist-packages (from requests[socks]->gdown) (1.7.1)\n",
            "Installing collected packages: gdown\n",
            "  Attempting uninstall: gdown\n",
            "    Found existing installation: gdown 4.4.0\n",
            "    Uninstalling gdown-4.4.0:\n",
            "      Successfully uninstalled gdown-4.4.0\n",
            "Successfully installed gdown-4.6.4\n"
          ]
        }
      ],
      "source": [
        "!pip install --upgrade --no-cache-dir gdown"
      ]
    },
    {
      "cell_type": "code",
      "execution_count": null,
      "metadata": {
        "colab": {
          "base_uri": "https://localhost:8080/"
        },
        "id": "i7yFkyyZBWXv",
        "outputId": "f2876a55-f871-442d-d5d7-2a5146005601"
      },
      "outputs": [
        {
          "output_type": "stream",
          "name": "stdout",
          "text": [
            "Downloading...\n",
            "From: https://drive.google.com/uc?id=1Jt5s-oexY1IfGTVrPBGok-QGTWSEsj8n\n",
            "To: /content/English-German.csv\n",
            "100% 7.33M/7.33M [00:00<00:00, 52.9MB/s]\n"
          ]
        }
      ],
      "source": [
        "!gdown 1Jt5s-oexY1IfGTVrPBGok-QGTWSEsj8n"
      ]
    },
    {
      "cell_type": "markdown",
      "metadata": {
        "id": "D8zeL36DzjtV"
      },
      "source": [
        "### Read Data"
      ]
    },
    {
      "cell_type": "code",
      "execution_count": null,
      "metadata": {
        "id": "RUlSHMq11ONV"
      },
      "outputs": [],
      "source": [
        "df = pd.read_csv(\"/content/English-German.csv\")"
      ]
    },
    {
      "cell_type": "code",
      "execution_count": null,
      "metadata": {
        "colab": {
          "base_uri": "https://localhost:8080/",
          "height": 423
        },
        "id": "D_q5lJFV1UxW",
        "outputId": "b1ca3b04-c540-451a-d6d1-c75fbb4179de"
      },
      "outputs": [
        {
          "output_type": "execute_result",
          "data": {
            "text/plain": [
              "                                         English Sentence  \\\n",
              "0                                                     Go.   \n",
              "1                                                     Hi.   \n",
              "2                                                     Hi.   \n",
              "3                                                    Run!   \n",
              "4                                                    Run.   \n",
              "...                                                   ...   \n",
              "138169  Carbon monoxide poisoning can cause hallucinat...   \n",
              "138170  Even intelligent people are sometimes absent-m...   \n",
              "138171  Tom's great-great-great grandmother lived in S...   \n",
              "138172  Tom's great-great-great grandmother lived in S...   \n",
              "138173  The government's decision had far-reaching imp...   \n",
              "\n",
              "                                          German Sentence  \n",
              "0                                                    Geh.  \n",
              "1                                                  Hallo!  \n",
              "2                                              Grüß Gott!  \n",
              "3                                                   Lauf!  \n",
              "4                                                   Lauf!  \n",
              "...                                                   ...  \n",
              "138169  Eine Kohlenmonoxidvergiftung kann Halluzinatio...  \n",
              "138170  Sogar intelligente Menschen sind manchmal geis...  \n",
              "138171            Toms Altgroßmutter lebte in Schottland.  \n",
              "138172         Toms Urururgroßmutter lebte in Schottland.  \n",
              "138173  Der Regierungsbeschluss hatte weitreichende Fo...  \n",
              "\n",
              "[138174 rows x 2 columns]"
            ],
            "text/html": [
              "\n",
              "  <div id=\"df-d2967084-5026-401e-bd82-bc0b6c34545d\">\n",
              "    <div class=\"colab-df-container\">\n",
              "      <div>\n",
              "<style scoped>\n",
              "    .dataframe tbody tr th:only-of-type {\n",
              "        vertical-align: middle;\n",
              "    }\n",
              "\n",
              "    .dataframe tbody tr th {\n",
              "        vertical-align: top;\n",
              "    }\n",
              "\n",
              "    .dataframe thead th {\n",
              "        text-align: right;\n",
              "    }\n",
              "</style>\n",
              "<table border=\"1\" class=\"dataframe\">\n",
              "  <thead>\n",
              "    <tr style=\"text-align: right;\">\n",
              "      <th></th>\n",
              "      <th>English Sentence</th>\n",
              "      <th>German Sentence</th>\n",
              "    </tr>\n",
              "  </thead>\n",
              "  <tbody>\n",
              "    <tr>\n",
              "      <th>0</th>\n",
              "      <td>Go.</td>\n",
              "      <td>Geh.</td>\n",
              "    </tr>\n",
              "    <tr>\n",
              "      <th>1</th>\n",
              "      <td>Hi.</td>\n",
              "      <td>Hallo!</td>\n",
              "    </tr>\n",
              "    <tr>\n",
              "      <th>2</th>\n",
              "      <td>Hi.</td>\n",
              "      <td>Grüß Gott!</td>\n",
              "    </tr>\n",
              "    <tr>\n",
              "      <th>3</th>\n",
              "      <td>Run!</td>\n",
              "      <td>Lauf!</td>\n",
              "    </tr>\n",
              "    <tr>\n",
              "      <th>4</th>\n",
              "      <td>Run.</td>\n",
              "      <td>Lauf!</td>\n",
              "    </tr>\n",
              "    <tr>\n",
              "      <th>...</th>\n",
              "      <td>...</td>\n",
              "      <td>...</td>\n",
              "    </tr>\n",
              "    <tr>\n",
              "      <th>138169</th>\n",
              "      <td>Carbon monoxide poisoning can cause hallucinat...</td>\n",
              "      <td>Eine Kohlenmonoxidvergiftung kann Halluzinatio...</td>\n",
              "    </tr>\n",
              "    <tr>\n",
              "      <th>138170</th>\n",
              "      <td>Even intelligent people are sometimes absent-m...</td>\n",
              "      <td>Sogar intelligente Menschen sind manchmal geis...</td>\n",
              "    </tr>\n",
              "    <tr>\n",
              "      <th>138171</th>\n",
              "      <td>Tom's great-great-great grandmother lived in S...</td>\n",
              "      <td>Toms Altgroßmutter lebte in Schottland.</td>\n",
              "    </tr>\n",
              "    <tr>\n",
              "      <th>138172</th>\n",
              "      <td>Tom's great-great-great grandmother lived in S...</td>\n",
              "      <td>Toms Urururgroßmutter lebte in Schottland.</td>\n",
              "    </tr>\n",
              "    <tr>\n",
              "      <th>138173</th>\n",
              "      <td>The government's decision had far-reaching imp...</td>\n",
              "      <td>Der Regierungsbeschluss hatte weitreichende Fo...</td>\n",
              "    </tr>\n",
              "  </tbody>\n",
              "</table>\n",
              "<p>138174 rows × 2 columns</p>\n",
              "</div>\n",
              "      <button class=\"colab-df-convert\" onclick=\"convertToInteractive('df-d2967084-5026-401e-bd82-bc0b6c34545d')\"\n",
              "              title=\"Convert this dataframe to an interactive table.\"\n",
              "              style=\"display:none;\">\n",
              "        \n",
              "  <svg xmlns=\"http://www.w3.org/2000/svg\" height=\"24px\"viewBox=\"0 0 24 24\"\n",
              "       width=\"24px\">\n",
              "    <path d=\"M0 0h24v24H0V0z\" fill=\"none\"/>\n",
              "    <path d=\"M18.56 5.44l.94 2.06.94-2.06 2.06-.94-2.06-.94-.94-2.06-.94 2.06-2.06.94zm-11 1L8.5 8.5l.94-2.06 2.06-.94-2.06-.94L8.5 2.5l-.94 2.06-2.06.94zm10 10l.94 2.06.94-2.06 2.06-.94-2.06-.94-.94-2.06-.94 2.06-2.06.94z\"/><path d=\"M17.41 7.96l-1.37-1.37c-.4-.4-.92-.59-1.43-.59-.52 0-1.04.2-1.43.59L10.3 9.45l-7.72 7.72c-.78.78-.78 2.05 0 2.83L4 21.41c.39.39.9.59 1.41.59.51 0 1.02-.2 1.41-.59l7.78-7.78 2.81-2.81c.8-.78.8-2.07 0-2.86zM5.41 20L4 18.59l7.72-7.72 1.47 1.35L5.41 20z\"/>\n",
              "  </svg>\n",
              "      </button>\n",
              "      \n",
              "  <style>\n",
              "    .colab-df-container {\n",
              "      display:flex;\n",
              "      flex-wrap:wrap;\n",
              "      gap: 12px;\n",
              "    }\n",
              "\n",
              "    .colab-df-convert {\n",
              "      background-color: #E8F0FE;\n",
              "      border: none;\n",
              "      border-radius: 50%;\n",
              "      cursor: pointer;\n",
              "      display: none;\n",
              "      fill: #1967D2;\n",
              "      height: 32px;\n",
              "      padding: 0 0 0 0;\n",
              "      width: 32px;\n",
              "    }\n",
              "\n",
              "    .colab-df-convert:hover {\n",
              "      background-color: #E2EBFA;\n",
              "      box-shadow: 0px 1px 2px rgba(60, 64, 67, 0.3), 0px 1px 3px 1px rgba(60, 64, 67, 0.15);\n",
              "      fill: #174EA6;\n",
              "    }\n",
              "\n",
              "    [theme=dark] .colab-df-convert {\n",
              "      background-color: #3B4455;\n",
              "      fill: #D2E3FC;\n",
              "    }\n",
              "\n",
              "    [theme=dark] .colab-df-convert:hover {\n",
              "      background-color: #434B5C;\n",
              "      box-shadow: 0px 1px 3px 1px rgba(0, 0, 0, 0.15);\n",
              "      filter: drop-shadow(0px 1px 2px rgba(0, 0, 0, 0.3));\n",
              "      fill: #FFFFFF;\n",
              "    }\n",
              "  </style>\n",
              "\n",
              "      <script>\n",
              "        const buttonEl =\n",
              "          document.querySelector('#df-d2967084-5026-401e-bd82-bc0b6c34545d button.colab-df-convert');\n",
              "        buttonEl.style.display =\n",
              "          google.colab.kernel.accessAllowed ? 'block' : 'none';\n",
              "\n",
              "        async function convertToInteractive(key) {\n",
              "          const element = document.querySelector('#df-d2967084-5026-401e-bd82-bc0b6c34545d');\n",
              "          const dataTable =\n",
              "            await google.colab.kernel.invokeFunction('convertToInteractive',\n",
              "                                                     [key], {});\n",
              "          if (!dataTable) return;\n",
              "\n",
              "          const docLinkHtml = 'Like what you see? Visit the ' +\n",
              "            '<a target=\"_blank\" href=https://colab.research.google.com/notebooks/data_table.ipynb>data table notebook</a>'\n",
              "            + ' to learn more about interactive tables.';\n",
              "          element.innerHTML = '';\n",
              "          dataTable['output_type'] = 'display_data';\n",
              "          await google.colab.output.renderOutput(dataTable, element);\n",
              "          const docLink = document.createElement('div');\n",
              "          docLink.innerHTML = docLinkHtml;\n",
              "          element.appendChild(docLink);\n",
              "        }\n",
              "      </script>\n",
              "    </div>\n",
              "  </div>\n",
              "  "
            ]
          },
          "metadata": {},
          "execution_count": 5
        }
      ],
      "source": [
        "df"
      ]
    },
    {
      "cell_type": "code",
      "execution_count": null,
      "metadata": {
        "colab": {
          "base_uri": "https://localhost:8080/"
        },
        "id": "bCjN4MkX1wnZ",
        "outputId": "20a94846-caf4-447b-a034-ddd6fef9bea9"
      },
      "outputs": [
        {
          "output_type": "execute_result",
          "data": {
            "text/plain": [
              "138174"
            ]
          },
          "metadata": {},
          "execution_count": 6
        }
      ],
      "source": [
        "len(df)"
      ]
    },
    {
      "cell_type": "code",
      "execution_count": null,
      "metadata": {
        "id": "xJZxLBiz8yi-"
      },
      "outputs": [],
      "source": [
        "df = df[:50000]"
      ]
    },
    {
      "cell_type": "markdown",
      "metadata": {
        "id": "PuX_Nbn9zjta"
      },
      "source": [
        "### Text Pre-Processing"
      ]
    },
    {
      "cell_type": "markdown",
      "metadata": {
        "id": "4nrNfeEYzjta"
      },
      "source": [
        "#### Text Cleaning"
      ]
    },
    {
      "cell_type": "markdown",
      "metadata": {
        "id": "jytqBJCDzjtb"
      },
      "source": [
        "We will get rid of the punctuation marks, and then convert the text to lower case."
      ]
    },
    {
      "cell_type": "code",
      "execution_count": null,
      "metadata": {
        "id": "WuITHohV2C3u"
      },
      "outputs": [],
      "source": [
        "def remove_punct_lower(text):\n",
        "\n",
        "  cleaned = re.sub(\"!|\\\"|#|$|%|&|\\'|\\)|\\*|\\+|,|-|\\.|\\/|:|;|<|=|>|\\?|@|[|\\\\|]|^|_|`|{||}~\",\"\",text)\n",
        "  lower = cleaned.lower()\n",
        "\n",
        "  return lower"
      ]
    },
    {
      "cell_type": "code",
      "execution_count": null,
      "metadata": {
        "colab": {
          "base_uri": "https://localhost:8080/"
        },
        "id": "7QnG5ZTFzjtc",
        "outputId": "975022e1-bb4d-48af-84a8-17257e5f3eb0"
      },
      "outputs": [
        {
          "output_type": "stream",
          "name": "stderr",
          "text": [
            "<ipython-input-9-096acc4abe0d>:1: SettingWithCopyWarning: \n",
            "A value is trying to be set on a copy of a slice from a DataFrame.\n",
            "Try using .loc[row_indexer,col_indexer] = value instead\n",
            "\n",
            "See the caveats in the documentation: https://pandas.pydata.org/pandas-docs/stable/user_guide/indexing.html#returning-a-view-versus-a-copy\n",
            "  df['English Sentence'] = df['English Sentence'].apply(remove_punct_lower)\n",
            "<ipython-input-9-096acc4abe0d>:2: SettingWithCopyWarning: \n",
            "A value is trying to be set on a copy of a slice from a DataFrame.\n",
            "Try using .loc[row_indexer,col_indexer] = value instead\n",
            "\n",
            "See the caveats in the documentation: https://pandas.pydata.org/pandas-docs/stable/user_guide/indexing.html#returning-a-view-versus-a-copy\n",
            "  df['German Sentence'] = df['German Sentence'].apply(remove_punct_lower)\n"
          ]
        }
      ],
      "source": [
        "df['English Sentence'] = df['English Sentence'].apply(remove_punct_lower)\n",
        "df['German Sentence'] = df['German Sentence'].apply(remove_punct_lower)"
      ]
    },
    {
      "cell_type": "code",
      "execution_count": null,
      "metadata": {
        "colab": {
          "base_uri": "https://localhost:8080/",
          "height": 206
        },
        "id": "XGHXMSW-zjtc",
        "outputId": "a4ec1485-4b36-4bdb-cb7a-728390311dfc"
      },
      "outputs": [
        {
          "output_type": "execute_result",
          "data": {
            "text/plain": [
              "  English Sentence German Sentence\n",
              "0               go             geh\n",
              "1               hi           hallo\n",
              "2               hi       grüß gott\n",
              "3              run            lauf\n",
              "4              run            lauf"
            ],
            "text/html": [
              "\n",
              "  <div id=\"df-9bd91b9a-7846-497d-9c83-3e1c1df6d13c\">\n",
              "    <div class=\"colab-df-container\">\n",
              "      <div>\n",
              "<style scoped>\n",
              "    .dataframe tbody tr th:only-of-type {\n",
              "        vertical-align: middle;\n",
              "    }\n",
              "\n",
              "    .dataframe tbody tr th {\n",
              "        vertical-align: top;\n",
              "    }\n",
              "\n",
              "    .dataframe thead th {\n",
              "        text-align: right;\n",
              "    }\n",
              "</style>\n",
              "<table border=\"1\" class=\"dataframe\">\n",
              "  <thead>\n",
              "    <tr style=\"text-align: right;\">\n",
              "      <th></th>\n",
              "      <th>English Sentence</th>\n",
              "      <th>German Sentence</th>\n",
              "    </tr>\n",
              "  </thead>\n",
              "  <tbody>\n",
              "    <tr>\n",
              "      <th>0</th>\n",
              "      <td>go</td>\n",
              "      <td>geh</td>\n",
              "    </tr>\n",
              "    <tr>\n",
              "      <th>1</th>\n",
              "      <td>hi</td>\n",
              "      <td>hallo</td>\n",
              "    </tr>\n",
              "    <tr>\n",
              "      <th>2</th>\n",
              "      <td>hi</td>\n",
              "      <td>grüß gott</td>\n",
              "    </tr>\n",
              "    <tr>\n",
              "      <th>3</th>\n",
              "      <td>run</td>\n",
              "      <td>lauf</td>\n",
              "    </tr>\n",
              "    <tr>\n",
              "      <th>4</th>\n",
              "      <td>run</td>\n",
              "      <td>lauf</td>\n",
              "    </tr>\n",
              "  </tbody>\n",
              "</table>\n",
              "</div>\n",
              "      <button class=\"colab-df-convert\" onclick=\"convertToInteractive('df-9bd91b9a-7846-497d-9c83-3e1c1df6d13c')\"\n",
              "              title=\"Convert this dataframe to an interactive table.\"\n",
              "              style=\"display:none;\">\n",
              "        \n",
              "  <svg xmlns=\"http://www.w3.org/2000/svg\" height=\"24px\"viewBox=\"0 0 24 24\"\n",
              "       width=\"24px\">\n",
              "    <path d=\"M0 0h24v24H0V0z\" fill=\"none\"/>\n",
              "    <path d=\"M18.56 5.44l.94 2.06.94-2.06 2.06-.94-2.06-.94-.94-2.06-.94 2.06-2.06.94zm-11 1L8.5 8.5l.94-2.06 2.06-.94-2.06-.94L8.5 2.5l-.94 2.06-2.06.94zm10 10l.94 2.06.94-2.06 2.06-.94-2.06-.94-.94-2.06-.94 2.06-2.06.94z\"/><path d=\"M17.41 7.96l-1.37-1.37c-.4-.4-.92-.59-1.43-.59-.52 0-1.04.2-1.43.59L10.3 9.45l-7.72 7.72c-.78.78-.78 2.05 0 2.83L4 21.41c.39.39.9.59 1.41.59.51 0 1.02-.2 1.41-.59l7.78-7.78 2.81-2.81c.8-.78.8-2.07 0-2.86zM5.41 20L4 18.59l7.72-7.72 1.47 1.35L5.41 20z\"/>\n",
              "  </svg>\n",
              "      </button>\n",
              "      \n",
              "  <style>\n",
              "    .colab-df-container {\n",
              "      display:flex;\n",
              "      flex-wrap:wrap;\n",
              "      gap: 12px;\n",
              "    }\n",
              "\n",
              "    .colab-df-convert {\n",
              "      background-color: #E8F0FE;\n",
              "      border: none;\n",
              "      border-radius: 50%;\n",
              "      cursor: pointer;\n",
              "      display: none;\n",
              "      fill: #1967D2;\n",
              "      height: 32px;\n",
              "      padding: 0 0 0 0;\n",
              "      width: 32px;\n",
              "    }\n",
              "\n",
              "    .colab-df-convert:hover {\n",
              "      background-color: #E2EBFA;\n",
              "      box-shadow: 0px 1px 2px rgba(60, 64, 67, 0.3), 0px 1px 3px 1px rgba(60, 64, 67, 0.15);\n",
              "      fill: #174EA6;\n",
              "    }\n",
              "\n",
              "    [theme=dark] .colab-df-convert {\n",
              "      background-color: #3B4455;\n",
              "      fill: #D2E3FC;\n",
              "    }\n",
              "\n",
              "    [theme=dark] .colab-df-convert:hover {\n",
              "      background-color: #434B5C;\n",
              "      box-shadow: 0px 1px 3px 1px rgba(0, 0, 0, 0.15);\n",
              "      filter: drop-shadow(0px 1px 2px rgba(0, 0, 0, 0.3));\n",
              "      fill: #FFFFFF;\n",
              "    }\n",
              "  </style>\n",
              "\n",
              "      <script>\n",
              "        const buttonEl =\n",
              "          document.querySelector('#df-9bd91b9a-7846-497d-9c83-3e1c1df6d13c button.colab-df-convert');\n",
              "        buttonEl.style.display =\n",
              "          google.colab.kernel.accessAllowed ? 'block' : 'none';\n",
              "\n",
              "        async function convertToInteractive(key) {\n",
              "          const element = document.querySelector('#df-9bd91b9a-7846-497d-9c83-3e1c1df6d13c');\n",
              "          const dataTable =\n",
              "            await google.colab.kernel.invokeFunction('convertToInteractive',\n",
              "                                                     [key], {});\n",
              "          if (!dataTable) return;\n",
              "\n",
              "          const docLinkHtml = 'Like what you see? Visit the ' +\n",
              "            '<a target=\"_blank\" href=https://colab.research.google.com/notebooks/data_table.ipynb>data table notebook</a>'\n",
              "            + ' to learn more about interactive tables.';\n",
              "          element.innerHTML = '';\n",
              "          dataTable['output_type'] = 'display_data';\n",
              "          await google.colab.output.renderOutput(dataTable, element);\n",
              "          const docLink = document.createElement('div');\n",
              "          docLink.innerHTML = docLinkHtml;\n",
              "          element.appendChild(docLink);\n",
              "        }\n",
              "      </script>\n",
              "    </div>\n",
              "  </div>\n",
              "  "
            ]
          },
          "metadata": {},
          "execution_count": 10
        }
      ],
      "source": [
        "df.head()"
      ]
    },
    {
      "cell_type": "markdown",
      "metadata": {
        "id": "y_tNCTgOzjte"
      },
      "source": [
        "#### Text to Sequence Encoding\n",
        "\n",
        "To feed our data in a Seq2Seq model, we have to:\n",
        "- convert both the input and the output sentences into integer sequences of fixed length."
      ]
    },
    {
      "cell_type": "code",
      "execution_count": null,
      "metadata": {
        "colab": {
          "base_uri": "https://localhost:8080/"
        },
        "id": "vxmfMTLy3jPR",
        "outputId": "6e945545-5011-4de3-d095-ae34cc58ab34"
      },
      "outputs": [
        {
          "output_type": "stream",
          "name": "stderr",
          "text": [
            "<ipython-input-11-1743de9f735a>:1: SettingWithCopyWarning: \n",
            "A value is trying to be set on a copy of a slice from a DataFrame.\n",
            "Try using .loc[row_indexer,col_indexer] = value instead\n",
            "\n",
            "See the caveats in the documentation: https://pandas.pydata.org/pandas-docs/stable/user_guide/indexing.html#returning-a-view-versus-a-copy\n",
            "  df['English Sentence length'] = df['English Sentence'].map(lambda i: len(i.split()))\n",
            "<ipython-input-11-1743de9f735a>:2: SettingWithCopyWarning: \n",
            "A value is trying to be set on a copy of a slice from a DataFrame.\n",
            "Try using .loc[row_indexer,col_indexer] = value instead\n",
            "\n",
            "See the caveats in the documentation: https://pandas.pydata.org/pandas-docs/stable/user_guide/indexing.html#returning-a-view-versus-a-copy\n",
            "  df['German Sentence length'] = df['German Sentence'].map(lambda i: len(i.split()))\n"
          ]
        }
      ],
      "source": [
        "df['English Sentence length'] = df['English Sentence'].map(lambda i: len(i.split()))\n",
        "df['German Sentence length'] = df['German Sentence'].map(lambda i: len(i.split()))"
      ]
    },
    {
      "cell_type": "code",
      "execution_count": null,
      "metadata": {
        "colab": {
          "base_uri": "https://localhost:8080/",
          "height": 206
        },
        "id": "48TzHwNp38JL",
        "outputId": "f02460c1-7731-4f21-aad9-66a394be1828"
      },
      "outputs": [
        {
          "output_type": "execute_result",
          "data": {
            "text/plain": [
              "  English Sentence German Sentence  English Sentence length  \\\n",
              "0               go             geh                        1   \n",
              "1               hi           hallo                        1   \n",
              "2               hi       grüß gott                        1   \n",
              "3              run            lauf                        1   \n",
              "4              run            lauf                        1   \n",
              "\n",
              "   German Sentence length  \n",
              "0                       1  \n",
              "1                       1  \n",
              "2                       2  \n",
              "3                       1  \n",
              "4                       1  "
            ],
            "text/html": [
              "\n",
              "  <div id=\"df-f43d42d2-f13d-45ec-b0c0-0cd066b9a6ad\">\n",
              "    <div class=\"colab-df-container\">\n",
              "      <div>\n",
              "<style scoped>\n",
              "    .dataframe tbody tr th:only-of-type {\n",
              "        vertical-align: middle;\n",
              "    }\n",
              "\n",
              "    .dataframe tbody tr th {\n",
              "        vertical-align: top;\n",
              "    }\n",
              "\n",
              "    .dataframe thead th {\n",
              "        text-align: right;\n",
              "    }\n",
              "</style>\n",
              "<table border=\"1\" class=\"dataframe\">\n",
              "  <thead>\n",
              "    <tr style=\"text-align: right;\">\n",
              "      <th></th>\n",
              "      <th>English Sentence</th>\n",
              "      <th>German Sentence</th>\n",
              "      <th>English Sentence length</th>\n",
              "      <th>German Sentence length</th>\n",
              "    </tr>\n",
              "  </thead>\n",
              "  <tbody>\n",
              "    <tr>\n",
              "      <th>0</th>\n",
              "      <td>go</td>\n",
              "      <td>geh</td>\n",
              "      <td>1</td>\n",
              "      <td>1</td>\n",
              "    </tr>\n",
              "    <tr>\n",
              "      <th>1</th>\n",
              "      <td>hi</td>\n",
              "      <td>hallo</td>\n",
              "      <td>1</td>\n",
              "      <td>1</td>\n",
              "    </tr>\n",
              "    <tr>\n",
              "      <th>2</th>\n",
              "      <td>hi</td>\n",
              "      <td>grüß gott</td>\n",
              "      <td>1</td>\n",
              "      <td>2</td>\n",
              "    </tr>\n",
              "    <tr>\n",
              "      <th>3</th>\n",
              "      <td>run</td>\n",
              "      <td>lauf</td>\n",
              "      <td>1</td>\n",
              "      <td>1</td>\n",
              "    </tr>\n",
              "    <tr>\n",
              "      <th>4</th>\n",
              "      <td>run</td>\n",
              "      <td>lauf</td>\n",
              "      <td>1</td>\n",
              "      <td>1</td>\n",
              "    </tr>\n",
              "  </tbody>\n",
              "</table>\n",
              "</div>\n",
              "      <button class=\"colab-df-convert\" onclick=\"convertToInteractive('df-f43d42d2-f13d-45ec-b0c0-0cd066b9a6ad')\"\n",
              "              title=\"Convert this dataframe to an interactive table.\"\n",
              "              style=\"display:none;\">\n",
              "        \n",
              "  <svg xmlns=\"http://www.w3.org/2000/svg\" height=\"24px\"viewBox=\"0 0 24 24\"\n",
              "       width=\"24px\">\n",
              "    <path d=\"M0 0h24v24H0V0z\" fill=\"none\"/>\n",
              "    <path d=\"M18.56 5.44l.94 2.06.94-2.06 2.06-.94-2.06-.94-.94-2.06-.94 2.06-2.06.94zm-11 1L8.5 8.5l.94-2.06 2.06-.94-2.06-.94L8.5 2.5l-.94 2.06-2.06.94zm10 10l.94 2.06.94-2.06 2.06-.94-2.06-.94-.94-2.06-.94 2.06-2.06.94z\"/><path d=\"M17.41 7.96l-1.37-1.37c-.4-.4-.92-.59-1.43-.59-.52 0-1.04.2-1.43.59L10.3 9.45l-7.72 7.72c-.78.78-.78 2.05 0 2.83L4 21.41c.39.39.9.59 1.41.59.51 0 1.02-.2 1.41-.59l7.78-7.78 2.81-2.81c.8-.78.8-2.07 0-2.86zM5.41 20L4 18.59l7.72-7.72 1.47 1.35L5.41 20z\"/>\n",
              "  </svg>\n",
              "      </button>\n",
              "      \n",
              "  <style>\n",
              "    .colab-df-container {\n",
              "      display:flex;\n",
              "      flex-wrap:wrap;\n",
              "      gap: 12px;\n",
              "    }\n",
              "\n",
              "    .colab-df-convert {\n",
              "      background-color: #E8F0FE;\n",
              "      border: none;\n",
              "      border-radius: 50%;\n",
              "      cursor: pointer;\n",
              "      display: none;\n",
              "      fill: #1967D2;\n",
              "      height: 32px;\n",
              "      padding: 0 0 0 0;\n",
              "      width: 32px;\n",
              "    }\n",
              "\n",
              "    .colab-df-convert:hover {\n",
              "      background-color: #E2EBFA;\n",
              "      box-shadow: 0px 1px 2px rgba(60, 64, 67, 0.3), 0px 1px 3px 1px rgba(60, 64, 67, 0.15);\n",
              "      fill: #174EA6;\n",
              "    }\n",
              "\n",
              "    [theme=dark] .colab-df-convert {\n",
              "      background-color: #3B4455;\n",
              "      fill: #D2E3FC;\n",
              "    }\n",
              "\n",
              "    [theme=dark] .colab-df-convert:hover {\n",
              "      background-color: #434B5C;\n",
              "      box-shadow: 0px 1px 3px 1px rgba(0, 0, 0, 0.15);\n",
              "      filter: drop-shadow(0px 1px 2px rgba(0, 0, 0, 0.3));\n",
              "      fill: #FFFFFF;\n",
              "    }\n",
              "  </style>\n",
              "\n",
              "      <script>\n",
              "        const buttonEl =\n",
              "          document.querySelector('#df-f43d42d2-f13d-45ec-b0c0-0cd066b9a6ad button.colab-df-convert');\n",
              "        buttonEl.style.display =\n",
              "          google.colab.kernel.accessAllowed ? 'block' : 'none';\n",
              "\n",
              "        async function convertToInteractive(key) {\n",
              "          const element = document.querySelector('#df-f43d42d2-f13d-45ec-b0c0-0cd066b9a6ad');\n",
              "          const dataTable =\n",
              "            await google.colab.kernel.invokeFunction('convertToInteractive',\n",
              "                                                     [key], {});\n",
              "          if (!dataTable) return;\n",
              "\n",
              "          const docLinkHtml = 'Like what you see? Visit the ' +\n",
              "            '<a target=\"_blank\" href=https://colab.research.google.com/notebooks/data_table.ipynb>data table notebook</a>'\n",
              "            + ' to learn more about interactive tables.';\n",
              "          element.innerHTML = '';\n",
              "          dataTable['output_type'] = 'display_data';\n",
              "          await google.colab.output.renderOutput(dataTable, element);\n",
              "          const docLink = document.createElement('div');\n",
              "          docLink.innerHTML = docLinkHtml;\n",
              "          element.appendChild(docLink);\n",
              "        }\n",
              "      </script>\n",
              "    </div>\n",
              "  </div>\n",
              "  "
            ]
          },
          "metadata": {},
          "execution_count": 12
        }
      ],
      "source": [
        "df.head()"
      ]
    },
    {
      "cell_type": "code",
      "execution_count": null,
      "metadata": {
        "colab": {
          "base_uri": "https://localhost:8080/",
          "height": 281
        },
        "id": "rHOSvLa2zjth",
        "outputId": "9ecb6505-73ca-4d61-d67c-5b54b17c10f1"
      },
      "outputs": [
        {
          "output_type": "display_data",
          "data": {
            "text/plain": [
              "<Figure size 432x288 with 2 Axes>"
            ],
            "image/png": "[encoded data removed]"
          },
          "metadata": {
            "needs_background": "light"
          }
        }
      ],
      "source": [
        "df[['English Sentence length','German Sentence length']].hist(bins = 30)\n",
        "plt.show()"
      ]
    },
    {
      "cell_type": "code",
      "execution_count": null,
      "metadata": {
        "colab": {
          "base_uri": "https://localhost:8080/"
        },
        "id": "B4eUkAKn9P6v",
        "outputId": "62f3ad84-fcd3-47d4-c8b0-e1d6090eeb82"
      },
      "outputs": [
        {
          "output_type": "execute_result",
          "data": {
            "text/plain": [
              "6"
            ]
          },
          "metadata": {},
          "execution_count": 14
        }
      ],
      "source": [
        "df['English Sentence length'].max()"
      ]
    },
    {
      "cell_type": "code",
      "execution_count": null,
      "metadata": {
        "colab": {
          "base_uri": "https://localhost:8080/"
        },
        "id": "T2601hMz9XT_",
        "outputId": "a95d356f-f427-401f-db58-55392ae53b0a"
      },
      "outputs": [
        {
          "output_type": "execute_result",
          "data": {
            "text/plain": [
              "6"
            ]
          },
          "metadata": {},
          "execution_count": 15
        }
      ],
      "source": [
        "df['German Sentence length'].max()"
      ]
    },
    {
      "cell_type": "code",
      "execution_count": null,
      "metadata": {
        "id": "JmewOYWJK8ev"
      },
      "outputs": [],
      "source": [
        "eng_length = 6\n",
        "deu_length = 6"
      ]
    },
    {
      "cell_type": "markdown",
      "metadata": {
        "id": "lJDnwGpyzjth"
      },
      "source": [
        "The maximum length of the German and English sentences is 6."
      ]
    },
    {
      "cell_type": "markdown",
      "metadata": {
        "id": "zqDDy8gwzjti"
      },
      "source": [
        "Vectorize the text data:\n",
        "- Turn sentences into sequences of integers.\n",
        "- Pad those sequences with zeros to make all the sequences of same length."
      ]
    },
    {
      "cell_type": "code",
      "execution_count": null,
      "metadata": {
        "id": "w0t86M7Jzjti"
      },
      "outputs": [],
      "source": [
        "def tokenization(lines):\n",
        "    tokenizer = Tokenizer()\n",
        "    tokenizer.fit_on_texts(lines)\n",
        "    return tokenizer"
      ]
    },
    {
      "cell_type": "markdown",
      "metadata": {
        "id": "LiCFCnOD-Vdw"
      },
      "source": [
        "Prepare English tokenizer"
      ]
    },
    {
      "cell_type": "code",
      "execution_count": null,
      "metadata": {
        "colab": {
          "base_uri": "https://localhost:8080/"
        },
        "id": "NK3OCEDozjtj",
        "outputId": "0dcf5399-2c2f-47cf-fe66-d2aaa7403e13"
      },
      "outputs": [
        {
          "output_type": "stream",
          "name": "stdout",
          "text": [
            "English Vocabulary Size: 6132\n"
          ]
        }
      ],
      "source": [
        "eng_tokenizer = tokenization(df['English Sentence'])\n",
        "eng_vocab_size = len(eng_tokenizer.word_index) + 1\n",
        "\n",
        "print('English Vocabulary Size: %d' % eng_vocab_size)"
      ]
    },
    {
      "cell_type": "markdown",
      "metadata": {
        "id": "CNju4TKk-YFW"
      },
      "source": [
        "Prepare German tokenizer"
      ]
    },
    {
      "cell_type": "code",
      "execution_count": null,
      "metadata": {
        "colab": {
          "base_uri": "https://localhost:8080/"
        },
        "id": "nxaEy0B_zjtj",
        "outputId": "70c0325f-86e3-450b-eaad-e432229e9ee0"
      },
      "outputs": [
        {
          "output_type": "stream",
          "name": "stdout",
          "text": [
            "Deutch Vocabulary Size: 10037\n"
          ]
        }
      ],
      "source": [
        "deu_tokenizer = tokenization(df['German Sentence'])\n",
        "deu_vocab_size = len(deu_tokenizer.word_index) + 1\n",
        "\n",
        "print('Deutch Vocabulary Size: %d' % deu_vocab_size)"
      ]
    },
    {
      "cell_type": "markdown",
      "metadata": {
        "id": "yftwWKr5zjtk"
      },
      "source": [
        "Function to prepare the sequences:\n",
        "- Convert text into vectors.\n",
        "- Pad sequence."
      ]
    },
    {
      "cell_type": "code",
      "execution_count": null,
      "metadata": {
        "id": "1c_j_vVczjtk"
      },
      "outputs": [],
      "source": [
        "# encode and pad sequences\n",
        "def encode_sequences(tokenizer, length, lines):\n",
        "    # integer encode sequences\n",
        "    seq = tokenizer.texts_to_sequences(lines)\n",
        "    # pad sequences with 0 values , padding='post', padding is added to the end of the sequence\n",
        "    seq = pad_sequences(seq, maxlen=length, padding='post')\n",
        "    return seq"
      ]
    },
    {
      "cell_type": "markdown",
      "metadata": {
        "id": "My2ae37yzjtk"
      },
      "source": [
        "### Model Building"
      ]
    },
    {
      "cell_type": "markdown",
      "metadata": {
        "id": "MKpk346mzjtl"
      },
      "source": [
        "We will now split the data into train and test set for model training and evaluation, respectively."
      ]
    },
    {
      "cell_type": "code",
      "execution_count": null,
      "metadata": {
        "id": "tGqG5qyAzjtl"
      },
      "outputs": [],
      "source": [
        "from sklearn.model_selection import train_test_split\n",
        "train, test = train_test_split(df, test_size=0.2, random_state = 12)"
      ]
    },
    {
      "cell_type": "code",
      "execution_count": null,
      "metadata": {
        "colab": {
          "base_uri": "https://localhost:8080/",
          "height": 423
        },
        "id": "lMFgGBjNWEVi",
        "outputId": "0d80c355-e758-4070-8ad8-cbe4a1c347e0"
      },
      "outputs": [
        {
          "output_type": "execute_result",
          "data": {
            "text/plain": [
              "          English Sentence              German Sentence  \\\n",
              "35235   tom wants to watch             tom will zusehen   \n",
              "36936   are you coming tom                kommst du tom   \n",
              "46486  i dont feel so well  ich fühle mich nicht so gut   \n",
              "27160    tom has been shot    tom ist erschossen worden   \n",
              "19490     mail this letter           sende diesen brief   \n",
              "...                    ...                          ...   \n",
              "36482   you have the floor           sie haben das wort   \n",
              "40177  it was just a guess   das war nur eine schätzung   \n",
              "19709     please be honest            sei bitte ehrlich   \n",
              "38555   i dont go out much       ich gehe nicht oft aus   \n",
              "14155      let me go alone       lass mich allein gehen   \n",
              "\n",
              "       English Sentence length  German Sentence length  \n",
              "35235                        4                       3  \n",
              "36936                        4                       3  \n",
              "46486                        5                       6  \n",
              "27160                        4                       4  \n",
              "19490                        3                       3  \n",
              "...                        ...                     ...  \n",
              "36482                        4                       4  \n",
              "40177                        5                       5  \n",
              "19709                        3                       3  \n",
              "38555                        5                       5  \n",
              "14155                        4                       4  \n",
              "\n",
              "[40000 rows x 4 columns]"
            ],
            "text/html": [
              "\n",
              "  <div id=\"df-e393b201-bb81-461a-b5c2-757f42e78cf1\">\n",
              "    <div class=\"colab-df-container\">\n",
              "      <div>\n",
              "<style scoped>\n",
              "    .dataframe tbody tr th:only-of-type {\n",
              "        vertical-align: middle;\n",
              "    }\n",
              "\n",
              "    .dataframe tbody tr th {\n",
              "        vertical-align: top;\n",
              "    }\n",
              "\n",
              "    .dataframe thead th {\n",
              "        text-align: right;\n",
              "    }\n",
              "</style>\n",
              "<table border=\"1\" class=\"dataframe\">\n",
              "  <thead>\n",
              "    <tr style=\"text-align: right;\">\n",
              "      <th></th>\n",
              "      <th>English Sentence</th>\n",
              "      <th>German Sentence</th>\n",
              "      <th>English Sentence length</th>\n",
              "      <th>German Sentence length</th>\n",
              "    </tr>\n",
              "  </thead>\n",
              "  <tbody>\n",
              "    <tr>\n",
              "      <th>35235</th>\n",
              "      <td>tom wants to watch</td>\n",
              "      <td>tom will zusehen</td>\n",
              "      <td>4</td>\n",
              "      <td>3</td>\n",
              "    </tr>\n",
              "    <tr>\n",
              "      <th>36936</th>\n",
              "      <td>are you coming tom</td>\n",
              "      <td>kommst du tom</td>\n",
              "      <td>4</td>\n",
              "      <td>3</td>\n",
              "    </tr>\n",
              "    <tr>\n",
              "      <th>46486</th>\n",
              "      <td>i dont feel so well</td>\n",
              "      <td>ich fühle mich nicht so gut</td>\n",
              "      <td>5</td>\n",
              "      <td>6</td>\n",
              "    </tr>\n",
              "    <tr>\n",
              "      <th>27160</th>\n",
              "      <td>tom has been shot</td>\n",
              "      <td>tom ist erschossen worden</td>\n",
              "      <td>4</td>\n",
              "      <td>4</td>\n",
              "    </tr>\n",
              "    <tr>\n",
              "      <th>19490</th>\n",
              "      <td>mail this letter</td>\n",
              "      <td>sende diesen brief</td>\n",
              "      <td>3</td>\n",
              "      <td>3</td>\n",
              "    </tr>\n",
              "    <tr>\n",
              "      <th>...</th>\n",
              "      <td>...</td>\n",
              "      <td>...</td>\n",
              "      <td>...</td>\n",
              "      <td>...</td>\n",
              "    </tr>\n",
              "    <tr>\n",
              "      <th>36482</th>\n",
              "      <td>you have the floor</td>\n",
              "      <td>sie haben das wort</td>\n",
              "      <td>4</td>\n",
              "      <td>4</td>\n",
              "    </tr>\n",
              "    <tr>\n",
              "      <th>40177</th>\n",
              "      <td>it was just a guess</td>\n",
              "      <td>das war nur eine schätzung</td>\n",
              "      <td>5</td>\n",
              "      <td>5</td>\n",
              "    </tr>\n",
              "    <tr>\n",
              "      <th>19709</th>\n",
              "      <td>please be honest</td>\n",
              "      <td>sei bitte ehrlich</td>\n",
              "      <td>3</td>\n",
              "      <td>3</td>\n",
              "    </tr>\n",
              "    <tr>\n",
              "      <th>38555</th>\n",
              "      <td>i dont go out much</td>\n",
              "      <td>ich gehe nicht oft aus</td>\n",
              "      <td>5</td>\n",
              "      <td>5</td>\n",
              "    </tr>\n",
              "    <tr>\n",
              "      <th>14155</th>\n",
              "      <td>let me go alone</td>\n",
              "      <td>lass mich allein gehen</td>\n",
              "      <td>4</td>\n",
              "      <td>4</td>\n",
              "    </tr>\n",
              "  </tbody>\n",
              "</table>\n",
              "<p>40000 rows × 4 columns</p>\n",
              "</div>\n",
              "      <button class=\"colab-df-convert\" onclick=\"convertToInteractive('df-e393b201-bb81-461a-b5c2-757f42e78cf1')\"\n",
              "              title=\"Convert this dataframe to an interactive table.\"\n",
              "              style=\"display:none;\">\n",
              "        \n",
              "  <svg xmlns=\"http://www.w3.org/2000/svg\" height=\"24px\"viewBox=\"0 0 24 24\"\n",
              "       width=\"24px\">\n",
              "    <path d=\"M0 0h24v24H0V0z\" fill=\"none\"/>\n",
              "    <path d=\"M18.56 5.44l.94 2.06.94-2.06 2.06-.94-2.06-.94-.94-2.06-.94 2.06-2.06.94zm-11 1L8.5 8.5l.94-2.06 2.06-.94-2.06-.94L8.5 2.5l-.94 2.06-2.06.94zm10 10l.94 2.06.94-2.06 2.06-.94-2.06-.94-.94-2.06-.94 2.06-2.06.94z\"/><path d=\"M17.41 7.96l-1.37-1.37c-.4-.4-.92-.59-1.43-.59-.52 0-1.04.2-1.43.59L10.3 9.45l-7.72 7.72c-.78.78-.78 2.05 0 2.83L4 21.41c.39.39.9.59 1.41.59.51 0 1.02-.2 1.41-.59l7.78-7.78 2.81-2.81c.8-.78.8-2.07 0-2.86zM5.41 20L4 18.59l7.72-7.72 1.47 1.35L5.41 20z\"/>\n",
              "  </svg>\n",
              "      </button>\n",
              "      \n",
              "  <style>\n",
              "    .colab-df-container {\n",
              "      display:flex;\n",
              "      flex-wrap:wrap;\n",
              "      gap: 12px;\n",
              "    }\n",
              "\n",
              "    .colab-df-convert {\n",
              "      background-color: #E8F0FE;\n",
              "      border: none;\n",
              "      border-radius: 50%;\n",
              "      cursor: pointer;\n",
              "      display: none;\n",
              "      fill: #1967D2;\n",
              "      height: 32px;\n",
              "      padding: 0 0 0 0;\n",
              "      width: 32px;\n",
              "    }\n",
              "\n",
              "    .colab-df-convert:hover {\n",
              "      background-color: #E2EBFA;\n",
              "      box-shadow: 0px 1px 2px rgba(60, 64, 67, 0.3), 0px 1px 3px 1px rgba(60, 64, 67, 0.15);\n",
              "      fill: #174EA6;\n",
              "    }\n",
              "\n",
              "    [theme=dark] .colab-df-convert {\n",
              "      background-color: #3B4455;\n",
              "      fill: #D2E3FC;\n",
              "    }\n",
              "\n",
              "    [theme=dark] .colab-df-convert:hover {\n",
              "      background-color: #434B5C;\n",
              "      box-shadow: 0px 1px 3px 1px rgba(0, 0, 0, 0.15);\n",
              "      filter: drop-shadow(0px 1px 2px rgba(0, 0, 0, 0.3));\n",
              "      fill: #FFFFFF;\n",
              "    }\n",
              "  </style>\n",
              "\n",
              "      <script>\n",
              "        const buttonEl =\n",
              "          document.querySelector('#df-e393b201-bb81-461a-b5c2-757f42e78cf1 button.colab-df-convert');\n",
              "        buttonEl.style.display =\n",
              "          google.colab.kernel.accessAllowed ? 'block' : 'none';\n",
              "\n",
              "        async function convertToInteractive(key) {\n",
              "          const element = document.querySelector('#df-e393b201-bb81-461a-b5c2-757f42e78cf1');\n",
              "          const dataTable =\n",
              "            await google.colab.kernel.invokeFunction('convertToInteractive',\n",
              "                                                     [key], {});\n",
              "          if (!dataTable) return;\n",
              "\n",
              "          const docLinkHtml = 'Like what you see? Visit the ' +\n",
              "            '<a target=\"_blank\" href=https://colab.research.google.com/notebooks/data_table.ipynb>data table notebook</a>'\n",
              "            + ' to learn more about interactive tables.';\n",
              "          element.innerHTML = '';\n",
              "          dataTable['output_type'] = 'display_data';\n",
              "          await google.colab.output.renderOutput(dataTable, element);\n",
              "          const docLink = document.createElement('div');\n",
              "          docLink.innerHTML = docLinkHtml;\n",
              "          element.appendChild(docLink);\n",
              "        }\n",
              "      </script>\n",
              "    </div>\n",
              "  </div>\n",
              "  "
            ]
          },
          "metadata": {},
          "execution_count": 22
        }
      ],
      "source": [
        "train"
      ]
    },
    {
      "cell_type": "markdown",
      "metadata": {
        "id": "lL3jugfizjtl"
      },
      "source": [
        "It's time to encode the sentences. We will encode German sentences as the input sequences and English sentences as the target sequences. It will be done for both train and test datasets."
      ]
    },
    {
      "cell_type": "code",
      "execution_count": null,
      "metadata": {
        "id": "c2BoUfyIzjtm"
      },
      "outputs": [],
      "source": [
        "# prepare training data\n",
        "trainX = encode_sequences(deu_tokenizer, deu_length, train['German Sentence'])\n",
        "trainY = encode_sequences(eng_tokenizer, eng_length, train['English Sentence'])"
      ]
    },
    {
      "cell_type": "code",
      "execution_count": null,
      "metadata": {
        "id": "XNue3tmmzjtm"
      },
      "outputs": [],
      "source": [
        "# prepare test data\n",
        "testX = encode_sequences(deu_tokenizer, deu_length, test['German Sentence'])\n",
        "testY = encode_sequences(eng_tokenizer, eng_length, test['English Sentence'])"
      ]
    },
    {
      "cell_type": "markdown",
      "metadata": {
        "id": "pAJPgofGzjtm"
      },
      "source": [
        "Define the Seq2Seq model architecture: \n",
        "- Encoder: Embedding layer and an LSTM layer \n",
        "- Decoder: LSTM layer followed by a Dense layer."
      ]
    },
    {
      "cell_type": "code",
      "execution_count": null,
      "metadata": {
        "id": "_pPZcX4Szjtn"
      },
      "outputs": [],
      "source": [
        "# build NMT model\n",
        "def build_model(in_vocab, out_vocab, in_timesteps, out_timesteps, units):\n",
        "    '''\n",
        "    in_vocab:  the size of the input vocabulary (German Vocab size)\n",
        "    out_vocab: the size of the output vocabulary (English Vocab size)\n",
        "    in_timesteps: the length of the input sequence (6)\n",
        "    out_timesteps: the length of the output sequence (6)\n",
        "    units: the number of units in the LSTM layers of the model\n",
        "\n",
        "    '''\n",
        "    # create a new sequential model\n",
        "    model = Sequential()\n",
        "\n",
        "    # convert the input sequence into a dense vector representation \n",
        "    model.add(Embedding(in_vocab, units, input_length=in_timesteps, mask_zero=True)) # input shape (batch size,6) => (batch size,6,512)\n",
        "\n",
        "    # process the embedded input sequence and extract features that can be used to generate the output sequence\n",
        "    model.add(LSTM(units)) # (output shape => (None,512))\n",
        "\n",
        "    model.add(RepeatVector(out_timesteps)) # (output shape => (None,6,512))\n",
        "\n",
        "    # Processes the repeated output from the previous layer and generates a sequence of output vectors\n",
        "    model.add(LSTM(units, return_sequences=True)) # (output shape => (None,6,512))\n",
        "\n",
        "    # Generate a probability distribution over the output vocabulary for each element in the output sequence\n",
        "    model.add(Dense(out_vocab, activation='softmax')) # (output shape => (None,6,vocab size))\n",
        "\n",
        "    return model"
      ]
    },
    {
      "cell_type": "code",
      "execution_count": null,
      "metadata": {
        "id": "oUV8i4ubzjto"
      },
      "outputs": [],
      "source": [
        "model = build_model(deu_vocab_size, eng_vocab_size, deu_length, eng_length, 512)"
      ]
    },
    {
      "cell_type": "code",
      "execution_count": null,
      "metadata": {
        "colab": {
          "base_uri": "https://localhost:8080/"
        },
        "id": "u9g1ZlSwXjRB",
        "outputId": "c0d48875-087e-475c-cc0b-60c068e991c5"
      },
      "outputs": [
        {
          "output_type": "stream",
          "name": "stdout",
          "text": [
            "Model: \"sequential\"\n",
            "_________________________________________________________________\n",
            " Layer (type)                Output Shape              Param #   \n",
            "=================================================================\n",
            " embedding (Embedding)       (None, 6, 512)            5138944   \n",
            "                                                                 \n",
            " lstm (LSTM)                 (None, 512)               2099200   \n",
            "                                                                 \n",
            " repeat_vector (RepeatVector  (None, 6, 512)           0         \n",
            " )                                                               \n",
            "                                                                 \n",
            " lstm_1 (LSTM)               (None, 6, 512)            2099200   \n",
            "                                                                 \n",
            " dense (Dense)               (None, 6, 6132)           3145716   \n",
            "                                                                 \n",
            "=================================================================\n",
            "Total params: 12,483,060\n",
            "Trainable params: 12,483,060\n",
            "Non-trainable params: 0\n",
            "_________________________________________________________________\n"
          ]
        }
      ],
      "source": [
        "model.summary()"
      ]
    },
    {
      "cell_type": "markdown",
      "metadata": {
        "id": "yF5MKdlLzjto"
      },
      "source": [
        "It seems we are all set to start training our model. We will train it for 30 epochs and with a batch size of 512. You may change and play these hyperparameters. We will also be using __ModelCheckpoint()__ to save the best model with lowest validation loss."
      ]
    },
    {
      "cell_type": "markdown",
      "metadata": {
        "id": "BsOX5A5Izjtn"
      },
      "source": [
        "We are using RMSprop optimizer in this model as it is usually a good choice for recurrent neural networks."
      ]
    },
    {
      "cell_type": "code",
      "execution_count": null,
      "metadata": {
        "id": "S4DdFzFqa34x"
      },
      "outputs": [],
      "source": [
        "rms = optimizers.RMSprop(learning_rate=0.001)\n",
        "model.compile(optimizer=rms, loss='sparse_categorical_crossentropy')"
      ]
    },
    {
      "cell_type": "code",
      "execution_count": null,
      "metadata": {
        "colab": {
          "base_uri": "https://localhost:8080/"
        },
        "id": "an1uBoDQCNko",
        "outputId": "17d57679-2dff-4672-d75c-06d31fbf0ff0"
      },
      "outputs": [
        {
          "output_type": "stream",
          "name": "stdout",
          "text": [
            "Epoch 1/30\n",
            "62/63 [============================>.] - ETA: 0s - loss: 4.2413\n",
            "Epoch 1: val_loss improved from inf to 3.66538, saving model to ModelWeights.12_Mar_23\n"
          ]
        },
        {
          "output_type": "stream",
          "name": "stderr",
          "text": [
            "WARNING:absl:Found untraced functions such as lstm_cell_layer_call_fn, lstm_cell_layer_call_and_return_conditional_losses, lstm_cell_1_layer_call_fn, lstm_cell_1_layer_call_and_return_conditional_losses while saving (showing 4 of 4). These functions will not be directly callable after loading.\n"
          ]
        },
        {
          "output_type": "stream",
          "name": "stdout",
          "text": [
            "\b\b\b\b\b\b\b\b\b\b\b\b\b\b\b\b\b\b\b\b\b\b\b\b\b\b\b\b\b\b\b\b\b\b\b\b\b\b\b\b\b\b\b\b\b\b\b\b\b\b\b\b\b\b\b\b\b\b\b\b\b\b\b\r63/63 [==============================] - 34s 292ms/step - loss: 4.2366 - val_loss: 3.6654\n",
            "Epoch 2/30\n",
            "62/63 [============================>.] - ETA: 0s - loss: 3.5442\n",
            "Epoch 2: val_loss improved from 3.66538 to 3.57015, saving model to ModelWeights.12_Mar_23\n"
          ]
        },
        {
          "output_type": "stream",
          "name": "stderr",
          "text": [
            "WARNING:absl:Found untraced functions such as lstm_cell_layer_call_fn, lstm_cell_layer_call_and_return_conditional_losses, lstm_cell_1_layer_call_fn, lstm_cell_1_layer_call_and_return_conditional_losses while saving (showing 4 of 4). These functions will not be directly callable after loading.\n"
          ]
        },
        {
          "output_type": "stream",
          "name": "stdout",
          "text": [
            "\b\b\b\b\b\b\b\b\b\b\b\b\b\b\b\b\b\b\b\b\b\b\b\b\b\b\b\b\b\b\b\b\b\b\b\b\b\b\b\b\b\b\b\b\b\b\b\b\b\b\b\b\b\b\b\b\b\b\b\b\b\b\b\r63/63 [==============================] - 16s 254ms/step - loss: 3.5440 - val_loss: 3.5702\n",
            "Epoch 3/30\n",
            "62/63 [============================>.] - ETA: 0s - loss: 3.2849\n",
            "Epoch 3: val_loss improved from 3.57015 to 3.22992, saving model to ModelWeights.12_Mar_23\n"
          ]
        },
        {
          "output_type": "stream",
          "name": "stderr",
          "text": [
            "WARNING:absl:Found untraced functions such as lstm_cell_layer_call_fn, lstm_cell_layer_call_and_return_conditional_losses, lstm_cell_1_layer_call_fn, lstm_cell_1_layer_call_and_return_conditional_losses while saving (showing 4 of 4). These functions will not be directly callable after loading.\n"
          ]
        },
        {
          "output_type": "stream",
          "name": "stdout",
          "text": [
            "\b\b\b\b\b\b\b\b\b\b\b\b\b\b\b\b\b\b\b\b\b\b\b\b\b\b\b\b\b\b\b\b\b\b\b\b\b\b\b\b\b\b\b\b\b\b\b\b\b\b\b\b\b\b\b\b\b\b\b\b\b\b\b\r63/63 [==============================] - 16s 256ms/step - loss: 3.2835 - val_loss: 3.2299\n",
            "Epoch 4/30\n",
            "62/63 [============================>.] - ETA: 0s - loss: 3.0573\n",
            "Epoch 4: val_loss improved from 3.22992 to 3.08175, saving model to ModelWeights.12_Mar_23\n"
          ]
        },
        {
          "output_type": "stream",
          "name": "stderr",
          "text": [
            "WARNING:absl:Found untraced functions such as lstm_cell_layer_call_fn, lstm_cell_layer_call_and_return_conditional_losses, lstm_cell_1_layer_call_fn, lstm_cell_1_layer_call_and_return_conditional_losses while saving (showing 4 of 4). These functions will not be directly callable after loading.\n"
          ]
        },
        {
          "output_type": "stream",
          "name": "stdout",
          "text": [
            "\b\b\b\b\b\b\b\b\b\b\b\b\b\b\b\b\b\b\b\b\b\b\b\b\b\b\b\b\b\b\b\b\b\b\b\b\b\b\b\b\b\b\b\b\b\b\b\b\b\b\b\b\b\b\b\b\b\b\b\b\b\b\b\r63/63 [==============================] - 17s 279ms/step - loss: 3.0569 - val_loss: 3.0818\n",
            "Epoch 5/30\n",
            "62/63 [============================>.] - ETA: 0s - loss: 2.8730\n",
            "Epoch 5: val_loss improved from 3.08175 to 2.95437, saving model to ModelWeights.12_Mar_23\n"
          ]
        },
        {
          "output_type": "stream",
          "name": "stderr",
          "text": [
            "WARNING:absl:Found untraced functions such as lstm_cell_layer_call_fn, lstm_cell_layer_call_and_return_conditional_losses, lstm_cell_1_layer_call_fn, lstm_cell_1_layer_call_and_return_conditional_losses while saving (showing 4 of 4). These functions will not be directly callable after loading.\n"
          ]
        },
        {
          "output_type": "stream",
          "name": "stdout",
          "text": [
            "\b\b\b\b\b\b\b\b\b\b\b\b\b\b\b\b\b\b\b\b\b\b\b\b\b\b\b\b\b\b\b\b\b\b\b\b\b\b\b\b\b\b\b\b\b\b\b\b\b\b\b\b\b\b\b\b\b\b\b\b\b\b\b\r63/63 [==============================] - 16s 256ms/step - loss: 2.8725 - val_loss: 2.9544\n",
            "Epoch 6/30\n",
            "62/63 [============================>.] - ETA: 0s - loss: 2.7029\n",
            "Epoch 6: val_loss improved from 2.95437 to 2.81418, saving model to ModelWeights.12_Mar_23\n"
          ]
        },
        {
          "output_type": "stream",
          "name": "stderr",
          "text": [
            "WARNING:absl:Found untraced functions such as lstm_cell_layer_call_fn, lstm_cell_layer_call_and_return_conditional_losses, lstm_cell_1_layer_call_fn, lstm_cell_1_layer_call_and_return_conditional_losses while saving (showing 4 of 4). These functions will not be directly callable after loading.\n"
          ]
        },
        {
          "output_type": "stream",
          "name": "stdout",
          "text": [
            "\b\b\b\b\b\b\b\b\b\b\b\b\b\b\b\b\b\b\b\b\b\b\b\b\b\b\b\b\b\b\b\b\b\b\b\b\b\b\b\b\b\b\b\b\b\b\b\b\b\b\b\b\b\b\b\b\b\b\b\b\b\b\b\r63/63 [==============================] - 16s 254ms/step - loss: 2.7021 - val_loss: 2.8142\n",
            "Epoch 7/30\n",
            "62/63 [============================>.] - ETA: 0s - loss: 2.5300\n",
            "Epoch 7: val_loss improved from 2.81418 to 2.66048, saving model to ModelWeights.12_Mar_23\n"
          ]
        },
        {
          "output_type": "stream",
          "name": "stderr",
          "text": [
            "WARNING:absl:Found untraced functions such as lstm_cell_layer_call_fn, lstm_cell_layer_call_and_return_conditional_losses, lstm_cell_1_layer_call_fn, lstm_cell_1_layer_call_and_return_conditional_losses while saving (showing 4 of 4). These functions will not be directly callable after loading.\n"
          ]
        },
        {
          "output_type": "stream",
          "name": "stdout",
          "text": [
            "\b\b\b\b\b\b\b\b\b\b\b\b\b\b\b\b\b\b\b\b\b\b\b\b\b\b\b\b\b\b\b\b\b\b\b\b\b\b\b\b\b\b\b\b\b\b\b\b\b\b\b\b\b\b\b\b\b\b\b\b\b\b\b\r63/63 [==============================] - 16s 260ms/step - loss: 2.5285 - val_loss: 2.6605\n",
            "Epoch 8/30\n",
            "62/63 [============================>.] - ETA: 0s - loss: 2.3615\n",
            "Epoch 8: val_loss improved from 2.66048 to 2.53735, saving model to ModelWeights.12_Mar_23\n"
          ]
        },
        {
          "output_type": "stream",
          "name": "stderr",
          "text": [
            "WARNING:absl:Found untraced functions such as lstm_cell_layer_call_fn, lstm_cell_layer_call_and_return_conditional_losses, lstm_cell_1_layer_call_fn, lstm_cell_1_layer_call_and_return_conditional_losses while saving (showing 4 of 4). These functions will not be directly callable after loading.\n"
          ]
        },
        {
          "output_type": "stream",
          "name": "stdout",
          "text": [
            "\b\b\b\b\b\b\b\b\b\b\b\b\b\b\b\b\b\b\b\b\b\b\b\b\b\b\b\b\b\b\b\b\b\b\b\b\b\b\b\b\b\b\b\b\b\b\b\b\b\b\b\b\b\b\b\b\b\b\b\b\b\b\b\r63/63 [==============================] - 16s 255ms/step - loss: 2.3610 - val_loss: 2.5374\n",
            "Epoch 9/30\n",
            "63/63 [==============================] - ETA: 0s - loss: 2.2132\n",
            "Epoch 9: val_loss improved from 2.53735 to 2.43322, saving model to ModelWeights.12_Mar_23\n"
          ]
        },
        {
          "output_type": "stream",
          "name": "stderr",
          "text": [
            "WARNING:absl:Found untraced functions such as lstm_cell_layer_call_fn, lstm_cell_layer_call_and_return_conditional_losses, lstm_cell_1_layer_call_fn, lstm_cell_1_layer_call_and_return_conditional_losses while saving (showing 4 of 4). These functions will not be directly callable after loading.\n"
          ]
        },
        {
          "output_type": "stream",
          "name": "stdout",
          "text": [
            "\b\b\b\b\b\b\b\b\b\b\b\b\b\b\b\b\b\b\b\b\b\b\b\b\b\b\b\b\b\b\b\b\b\b\b\b\b\b\b\b\b\b\b\b\b\b\b\b\b\b\b\b\b\b\b\b\b\b\b\b\b\b\b\r63/63 [==============================] - 16s 252ms/step - loss: 2.2132 - val_loss: 2.4332\n",
            "Epoch 10/30\n",
            "63/63 [==============================] - ETA: 0s - loss: 2.0762\n",
            "Epoch 10: val_loss improved from 2.43322 to 2.36344, saving model to ModelWeights.12_Mar_23\n"
          ]
        },
        {
          "output_type": "stream",
          "name": "stderr",
          "text": [
            "WARNING:absl:Found untraced functions such as lstm_cell_layer_call_fn, lstm_cell_layer_call_and_return_conditional_losses, lstm_cell_1_layer_call_fn, lstm_cell_1_layer_call_and_return_conditional_losses while saving (showing 4 of 4). These functions will not be directly callable after loading.\n"
          ]
        },
        {
          "output_type": "stream",
          "name": "stdout",
          "text": [
            "\b\b\b\b\b\b\b\b\b\b\b\b\b\b\b\b\b\b\b\b\b\b\b\b\b\b\b\b\b\b\b\b\b\b\b\b\b\b\b\b\b\b\b\b\b\b\b\b\b\b\b\b\b\b\b\b\b\b\b\b\b\b\b\r63/63 [==============================] - 16s 262ms/step - loss: 2.0762 - val_loss: 2.3634\n",
            "Epoch 11/30\n",
            "63/63 [==============================] - ETA: 0s - loss: 1.9478\n",
            "Epoch 11: val_loss improved from 2.36344 to 2.28214, saving model to ModelWeights.12_Mar_23\n"
          ]
        },
        {
          "output_type": "stream",
          "name": "stderr",
          "text": [
            "WARNING:absl:Found untraced functions such as lstm_cell_layer_call_fn, lstm_cell_layer_call_and_return_conditional_losses, lstm_cell_1_layer_call_fn, lstm_cell_1_layer_call_and_return_conditional_losses while saving (showing 4 of 4). These functions will not be directly callable after loading.\n"
          ]
        },
        {
          "output_type": "stream",
          "name": "stdout",
          "text": [
            "\b\b\b\b\b\b\b\b\b\b\b\b\b\b\b\b\b\b\b\b\b\b\b\b\b\b\b\b\b\b\b\b\b\b\b\b\b\b\b\b\b\b\b\b\b\b\b\b\b\b\b\b\b\b\b\b\b\b\b\b\b\b\b\r63/63 [==============================] - 16s 256ms/step - loss: 1.9478 - val_loss: 2.2821\n",
            "Epoch 12/30\n",
            "63/63 [==============================] - ETA: 0s - loss: 1.8234\n",
            "Epoch 12: val_loss improved from 2.28214 to 2.18859, saving model to ModelWeights.12_Mar_23\n"
          ]
        },
        {
          "output_type": "stream",
          "name": "stderr",
          "text": [
            "WARNING:absl:Found untraced functions such as lstm_cell_layer_call_fn, lstm_cell_layer_call_and_return_conditional_losses, lstm_cell_1_layer_call_fn, lstm_cell_1_layer_call_and_return_conditional_losses while saving (showing 4 of 4). These functions will not be directly callable after loading.\n"
          ]
        },
        {
          "output_type": "stream",
          "name": "stdout",
          "text": [
            "\b\b\b\b\b\b\b\b\b\b\b\b\b\b\b\b\b\b\b\b\b\b\b\b\b\b\b\b\b\b\b\b\b\b\b\b\b\b\b\b\b\b\b\b\b\b\b\b\b\b\b\b\b\b\b\b\b\b\b\b\b\b\b\r63/63 [==============================] - 16s 255ms/step - loss: 1.8234 - val_loss: 2.1886\n",
            "Epoch 13/30\n",
            "62/63 [============================>.] - ETA: 0s - loss: 1.7066\n",
            "Epoch 13: val_loss improved from 2.18859 to 2.11377, saving model to ModelWeights.12_Mar_23\n"
          ]
        },
        {
          "output_type": "stream",
          "name": "stderr",
          "text": [
            "WARNING:absl:Found untraced functions such as lstm_cell_layer_call_fn, lstm_cell_layer_call_and_return_conditional_losses, lstm_cell_1_layer_call_fn, lstm_cell_1_layer_call_and_return_conditional_losses while saving (showing 4 of 4). These functions will not be directly callable after loading.\n"
          ]
        },
        {
          "output_type": "stream",
          "name": "stdout",
          "text": [
            "\b\b\b\b\b\b\b\b\b\b\b\b\b\b\b\b\b\b\b\b\b\b\b\b\b\b\b\b\b\b\b\b\b\b\b\b\b\b\b\b\b\b\b\b\b\b\b\b\b\b\b\b\b\b\b\b\b\b\b\b\b\b\b\r63/63 [==============================] - 16s 262ms/step - loss: 1.7070 - val_loss: 2.1138\n",
            "Epoch 14/30\n",
            "62/63 [============================>.] - ETA: 0s - loss: 1.5968\n",
            "Epoch 14: val_loss improved from 2.11377 to 2.04570, saving model to ModelWeights.12_Mar_23\n"
          ]
        },
        {
          "output_type": "stream",
          "name": "stderr",
          "text": [
            "WARNING:absl:Found untraced functions such as lstm_cell_layer_call_fn, lstm_cell_layer_call_and_return_conditional_losses, lstm_cell_1_layer_call_fn, lstm_cell_1_layer_call_and_return_conditional_losses while saving (showing 4 of 4). These functions will not be directly callable after loading.\n"
          ]
        },
        {
          "output_type": "stream",
          "name": "stdout",
          "text": [
            "\b\b\b\b\b\b\b\b\b\b\b\b\b\b\b\b\b\b\b\b\b\b\b\b\b\b\b\b\b\b\b\b\b\b\b\b\b\b\b\b\b\b\b\b\b\b\b\b\b\b\b\b\b\b\b\b\b\b\b\b\b\b\b\r63/63 [==============================] - 16s 255ms/step - loss: 1.5971 - val_loss: 2.0457\n",
            "Epoch 15/30\n",
            "63/63 [==============================] - ETA: 0s - loss: 1.4914\n",
            "Epoch 15: val_loss improved from 2.04570 to 2.00085, saving model to ModelWeights.12_Mar_23\n"
          ]
        },
        {
          "output_type": "stream",
          "name": "stderr",
          "text": [
            "WARNING:absl:Found untraced functions such as lstm_cell_layer_call_fn, lstm_cell_layer_call_and_return_conditional_losses, lstm_cell_1_layer_call_fn, lstm_cell_1_layer_call_and_return_conditional_losses while saving (showing 4 of 4). These functions will not be directly callable after loading.\n"
          ]
        },
        {
          "output_type": "stream",
          "name": "stdout",
          "text": [
            "\b\b\b\b\b\b\b\b\b\b\b\b\b\b\b\b\b\b\b\b\b\b\b\b\b\b\b\b\b\b\b\b\b\b\b\b\b\b\b\b\b\b\b\b\b\b\b\b\b\b\b\b\b\b\b\b\b\b\b\b\b\b\b\r63/63 [==============================] - 16s 255ms/step - loss: 1.4914 - val_loss: 2.0009\n",
            "Epoch 16/30\n",
            "62/63 [============================>.] - ETA: 0s - loss: 1.3925\n",
            "Epoch 16: val_loss improved from 2.00085 to 1.95409, saving model to ModelWeights.12_Mar_23\n"
          ]
        },
        {
          "output_type": "stream",
          "name": "stderr",
          "text": [
            "WARNING:absl:Found untraced functions such as lstm_cell_layer_call_fn, lstm_cell_layer_call_and_return_conditional_losses, lstm_cell_1_layer_call_fn, lstm_cell_1_layer_call_and_return_conditional_losses while saving (showing 4 of 4). These functions will not be directly callable after loading.\n"
          ]
        },
        {
          "output_type": "stream",
          "name": "stdout",
          "text": [
            "\b\b\b\b\b\b\b\b\b\b\b\b\b\b\b\b\b\b\b\b\b\b\b\b\b\b\b\b\b\b\b\b\b\b\b\b\b\b\b\b\b\b\b\b\b\b\b\b\b\b\b\b\b\b\b\b\b\b\b\b\b\b\b\r63/63 [==============================] - 17s 270ms/step - loss: 1.3931 - val_loss: 1.9541\n",
            "Epoch 17/30\n",
            "63/63 [==============================] - ETA: 0s - loss: 1.2997\n",
            "Epoch 17: val_loss improved from 1.95409 to 1.91907, saving model to ModelWeights.12_Mar_23\n"
          ]
        },
        {
          "output_type": "stream",
          "name": "stderr",
          "text": [
            "WARNING:absl:Found untraced functions such as lstm_cell_layer_call_fn, lstm_cell_layer_call_and_return_conditional_losses, lstm_cell_1_layer_call_fn, lstm_cell_1_layer_call_and_return_conditional_losses while saving (showing 4 of 4). These functions will not be directly callable after loading.\n"
          ]
        },
        {
          "output_type": "stream",
          "name": "stdout",
          "text": [
            "\b\b\b\b\b\b\b\b\b\b\b\b\b\b\b\b\b\b\b\b\b\b\b\b\b\b\b\b\b\b\b\b\b\b\b\b\b\b\b\b\b\b\b\b\b\b\b\b\b\b\b\b\b\b\b\b\b\b\b\b\b\b\b\r63/63 [==============================] - 16s 255ms/step - loss: 1.2997 - val_loss: 1.9191\n",
            "Epoch 18/30\n",
            "63/63 [==============================] - ETA: 0s - loss: 1.2090\n",
            "Epoch 18: val_loss improved from 1.91907 to 1.85933, saving model to ModelWeights.12_Mar_23\n"
          ]
        },
        {
          "output_type": "stream",
          "name": "stderr",
          "text": [
            "WARNING:absl:Found untraced functions such as lstm_cell_layer_call_fn, lstm_cell_layer_call_and_return_conditional_losses, lstm_cell_1_layer_call_fn, lstm_cell_1_layer_call_and_return_conditional_losses while saving (showing 4 of 4). These functions will not be directly callable after loading.\n"
          ]
        },
        {
          "output_type": "stream",
          "name": "stdout",
          "text": [
            "\b\b\b\b\b\b\b\b\b\b\b\b\b\b\b\b\b\b\b\b\b\b\b\b\b\b\b\b\b\b\b\b\b\b\b\b\b\b\b\b\b\b\b\b\b\b\b\b\b\b\b\b\b\b\b\b\b\b\b\b\b\b\b\r63/63 [==============================] - 16s 257ms/step - loss: 1.2090 - val_loss: 1.8593\n",
            "Epoch 19/30\n",
            "63/63 [==============================] - ETA: 0s - loss: 1.1235\n",
            "Epoch 19: val_loss improved from 1.85933 to 1.82023, saving model to ModelWeights.12_Mar_23\n"
          ]
        },
        {
          "output_type": "stream",
          "name": "stderr",
          "text": [
            "WARNING:absl:Found untraced functions such as lstm_cell_layer_call_fn, lstm_cell_layer_call_and_return_conditional_losses, lstm_cell_1_layer_call_fn, lstm_cell_1_layer_call_and_return_conditional_losses while saving (showing 4 of 4). These functions will not be directly callable after loading.\n"
          ]
        },
        {
          "output_type": "stream",
          "name": "stdout",
          "text": [
            "\b\b\b\b\b\b\b\b\b\b\b\b\b\b\b\b\b\b\b\b\b\b\b\b\b\b\b\b\b\b\b\b\b\b\b\b\b\b\b\b\b\b\b\b\b\b\b\b\b\b\b\b\b\b\b\b\b\b\b\b\b\b\b\r63/63 [==============================] - 16s 262ms/step - loss: 1.1235 - val_loss: 1.8202\n",
            "Epoch 20/30\n",
            "62/63 [============================>.] - ETA: 0s - loss: 1.0437\n",
            "Epoch 20: val_loss improved from 1.82023 to 1.78594, saving model to ModelWeights.12_Mar_23\n"
          ]
        },
        {
          "output_type": "stream",
          "name": "stderr",
          "text": [
            "WARNING:absl:Found untraced functions such as lstm_cell_layer_call_fn, lstm_cell_layer_call_and_return_conditional_losses, lstm_cell_1_layer_call_fn, lstm_cell_1_layer_call_and_return_conditional_losses while saving (showing 4 of 4). These functions will not be directly callable after loading.\n"
          ]
        },
        {
          "output_type": "stream",
          "name": "stdout",
          "text": [
            "\b\b\b\b\b\b\b\b\b\b\b\b\b\b\b\b\b\b\b\b\b\b\b\b\b\b\b\b\b\b\b\b\b\b\b\b\b\b\b\b\b\b\b\b\b\b\b\b\b\b\b\b\b\b\b\b\b\b\b\b\b\b\b\r63/63 [==============================] - 16s 259ms/step - loss: 1.0442 - val_loss: 1.7859\n",
            "Epoch 21/30\n",
            "63/63 [==============================] - ETA: 0s - loss: 0.9640\n",
            "Epoch 21: val_loss improved from 1.78594 to 1.76840, saving model to ModelWeights.12_Mar_23\n"
          ]
        },
        {
          "output_type": "stream",
          "name": "stderr",
          "text": [
            "WARNING:absl:Found untraced functions such as lstm_cell_layer_call_fn, lstm_cell_layer_call_and_return_conditional_losses, lstm_cell_1_layer_call_fn, lstm_cell_1_layer_call_and_return_conditional_losses while saving (showing 4 of 4). These functions will not be directly callable after loading.\n"
          ]
        },
        {
          "output_type": "stream",
          "name": "stdout",
          "text": [
            "\b\b\b\b\b\b\b\b\b\b\b\b\b\b\b\b\b\b\b\b\b\b\b\b\b\b\b\b\b\b\b\b\b\b\b\b\b\b\b\b\b\b\b\b\b\b\b\b\b\b\b\b\b\b\b\b\b\b\b\b\b\b\b\r63/63 [==============================] - 16s 256ms/step - loss: 0.9640 - val_loss: 1.7684\n",
            "Epoch 22/30\n",
            "62/63 [============================>.] - ETA: 0s - loss: 0.8957\n",
            "Epoch 22: val_loss improved from 1.76840 to 1.72290, saving model to ModelWeights.12_Mar_23\n"
          ]
        },
        {
          "output_type": "stream",
          "name": "stderr",
          "text": [
            "WARNING:absl:Found untraced functions such as lstm_cell_layer_call_fn, lstm_cell_layer_call_and_return_conditional_losses, lstm_cell_1_layer_call_fn, lstm_cell_1_layer_call_and_return_conditional_losses while saving (showing 4 of 4). These functions will not be directly callable after loading.\n"
          ]
        },
        {
          "output_type": "stream",
          "name": "stdout",
          "text": [
            "\b\b\b\b\b\b\b\b\b\b\b\b\b\b\b\b\b\b\b\b\b\b\b\b\b\b\b\b\b\b\b\b\b\b\b\b\b\b\b\b\b\b\b\b\b\b\b\b\b\b\b\b\b\b\b\b\b\b\b\b\b\b\b\r63/63 [==============================] - 17s 268ms/step - loss: 0.8954 - val_loss: 1.7229\n",
            "Epoch 23/30\n",
            "63/63 [==============================] - ETA: 0s - loss: 0.8267\n",
            "Epoch 23: val_loss improved from 1.72290 to 1.70456, saving model to ModelWeights.12_Mar_23\n"
          ]
        },
        {
          "output_type": "stream",
          "name": "stderr",
          "text": [
            "WARNING:absl:Found untraced functions such as lstm_cell_layer_call_fn, lstm_cell_layer_call_and_return_conditional_losses, lstm_cell_1_layer_call_fn, lstm_cell_1_layer_call_and_return_conditional_losses while saving (showing 4 of 4). These functions will not be directly callable after loading.\n"
          ]
        },
        {
          "output_type": "stream",
          "name": "stdout",
          "text": [
            "\b\b\b\b\b\b\b\b\b\b\b\b\b\b\b\b\b\b\b\b\b\b\b\b\b\b\b\b\b\b\b\b\b\b\b\b\b\b\b\b\b\b\b\b\b\b\b\b\b\b\b\b\b\b\b\b\b\b\b\b\b\b\b\r63/63 [==============================] - 16s 261ms/step - loss: 0.8267 - val_loss: 1.7046\n",
            "Epoch 24/30\n",
            "63/63 [==============================] - ETA: 0s - loss: 0.7606\n",
            "Epoch 24: val_loss improved from 1.70456 to 1.67879, saving model to ModelWeights.12_Mar_23\n"
          ]
        },
        {
          "output_type": "stream",
          "name": "stderr",
          "text": [
            "WARNING:absl:Found untraced functions such as lstm_cell_layer_call_fn, lstm_cell_layer_call_and_return_conditional_losses, lstm_cell_1_layer_call_fn, lstm_cell_1_layer_call_and_return_conditional_losses while saving (showing 4 of 4). These functions will not be directly callable after loading.\n"
          ]
        },
        {
          "output_type": "stream",
          "name": "stdout",
          "text": [
            "\b\b\b\b\b\b\b\b\b\b\b\b\b\b\b\b\b\b\b\b\b\b\b\b\b\b\b\b\b\b\b\b\b\b\b\b\b\b\b\b\b\b\b\b\b\b\b\b\b\b\b\b\b\b\b\b\b\b\b\b\b\b\b\r63/63 [==============================] - 16s 257ms/step - loss: 0.7606 - val_loss: 1.6788\n",
            "Epoch 25/30\n",
            "62/63 [============================>.] - ETA: 0s - loss: 0.6998\n",
            "Epoch 25: val_loss improved from 1.67879 to 1.67447, saving model to ModelWeights.12_Mar_23\n"
          ]
        },
        {
          "output_type": "stream",
          "name": "stderr",
          "text": [
            "WARNING:absl:Found untraced functions such as lstm_cell_layer_call_fn, lstm_cell_layer_call_and_return_conditional_losses, lstm_cell_1_layer_call_fn, lstm_cell_1_layer_call_and_return_conditional_losses while saving (showing 4 of 4). These functions will not be directly callable after loading.\n"
          ]
        },
        {
          "output_type": "stream",
          "name": "stdout",
          "text": [
            "\b\b\b\b\b\b\b\b\b\b\b\b\b\b\b\b\b\b\b\b\b\b\b\b\b\b\b\b\b\b\b\b\b\b\b\b\b\b\b\b\b\b\b\b\b\b\b\b\b\b\b\b\b\b\b\b\b\b\b\b\b\b\b\r63/63 [==============================] - 16s 262ms/step - loss: 0.7004 - val_loss: 1.6745\n",
            "Epoch 26/30\n",
            "63/63 [==============================] - ETA: 0s - loss: 0.6455\n",
            "Epoch 26: val_loss improved from 1.67447 to 1.65338, saving model to ModelWeights.12_Mar_23\n"
          ]
        },
        {
          "output_type": "stream",
          "name": "stderr",
          "text": [
            "WARNING:absl:Found untraced functions such as lstm_cell_layer_call_fn, lstm_cell_layer_call_and_return_conditional_losses, lstm_cell_1_layer_call_fn, lstm_cell_1_layer_call_and_return_conditional_losses while saving (showing 4 of 4). These functions will not be directly callable after loading.\n"
          ]
        },
        {
          "output_type": "stream",
          "name": "stdout",
          "text": [
            "\b\b\b\b\b\b\b\b\b\b\b\b\b\b\b\b\b\b\b\b\b\b\b\b\b\b\b\b\b\b\b\b\b\b\b\b\b\b\b\b\b\b\b\b\b\b\b\b\b\b\b\b\b\b\b\b\b\b\b\b\b\b\b\r63/63 [==============================] - 16s 261ms/step - loss: 0.6455 - val_loss: 1.6534\n",
            "Epoch 27/30\n",
            "63/63 [==============================] - ETA: 0s - loss: 0.5921\n",
            "Epoch 27: val_loss did not improve from 1.65338\n",
            "63/63 [==============================] - 3s 51ms/step - loss: 0.5921 - val_loss: 1.6753\n",
            "Epoch 28/30\n",
            "63/63 [==============================] - ETA: 0s - loss: 0.5427\n",
            "Epoch 28: val_loss did not improve from 1.65338\n",
            "63/63 [==============================] - 3s 53ms/step - loss: 0.5427 - val_loss: 1.6543\n",
            "Epoch 29/30\n",
            "62/63 [============================>.] - ETA: 0s - loss: 0.4970\n",
            "Epoch 29: val_loss did not improve from 1.65338\n",
            "63/63 [==============================] - 3s 52ms/step - loss: 0.4980 - val_loss: 1.6594\n",
            "Epoch 30/30\n",
            "62/63 [============================>.] - ETA: 0s - loss: 0.4533\n",
            "Epoch 30: val_loss improved from 1.65338 to 1.63338, saving model to ModelWeights.12_Mar_23\n"
          ]
        },
        {
          "output_type": "stream",
          "name": "stderr",
          "text": [
            "WARNING:absl:Found untraced functions such as lstm_cell_layer_call_fn, lstm_cell_layer_call_and_return_conditional_losses, lstm_cell_1_layer_call_fn, lstm_cell_1_layer_call_and_return_conditional_losses while saving (showing 4 of 4). These functions will not be directly callable after loading.\n"
          ]
        },
        {
          "output_type": "stream",
          "name": "stdout",
          "text": [
            "\b\b\b\b\b\b\b\b\b\b\b\b\b\b\b\b\b\b\b\b\b\b\b\b\b\b\b\b\b\b\b\b\b\b\b\b\b\b\b\b\b\b\b\b\b\b\b\b\b\b\b\b\b\b\b\b\b\b\b\b\b\b\b\r63/63 [==============================] - 16s 258ms/step - loss: 0.4535 - val_loss: 1.6334\n"
          ]
        }
      ],
      "source": [
        "filename = 'ModelWeights.12_Mar_23'\n",
        "checkpoint = ModelCheckpoint(filename, monitor='val_loss', verbose=1, save_best_only=True, mode='min')\n",
        "\n",
        "# reshaping trainY to match the shape of the output of the last layer of the model, which has shape (batch_size, out_timesteps, out_vocab)\n",
        "history = model.fit(trainX, trainY.reshape(trainY.shape[0], trainY.shape[1], 1), \n",
        "          epochs=30, batch_size=512, \n",
        "          validation_split = 0.2,\n",
        "          callbacks=[checkpoint], verbose=1)"
      ]
    },
    {
      "cell_type": "markdown",
      "metadata": {
        "id": "rCyHbGeRzjtq"
      },
      "source": [
        "Let's compare the training loss and the validation loss."
      ]
    },
    {
      "cell_type": "code",
      "execution_count": null,
      "metadata": {
        "colab": {
          "base_uri": "https://localhost:8080/",
          "height": 265
        },
        "id": "9N_K1jH2zjtq",
        "outputId": "097cde9c-edb8-4d9e-e8be-608f6a00cef4"
      },
      "outputs": [
        {
          "output_type": "display_data",
          "data": {
            "text/plain": [
              "<Figure size 432x288 with 1 Axes>"
            ],
            "image/png": "[encoded data removed]"
          },
          "metadata": {
            "needs_background": "light"
          }
        }
      ],
      "source": [
        "plt.plot(history.history['loss'])\n",
        "plt.plot(history.history['val_loss'])\n",
        "plt.legend(['train','validation'])\n",
        "plt.show()"
      ]
    },
    {
      "cell_type": "markdown",
      "metadata": {
        "id": "55Opileszjtr"
      },
      "source": [
        "### Make Predictions"
      ]
    },
    {
      "cell_type": "markdown",
      "metadata": {
        "id": "JjpdlSx-zjtr"
      },
      "source": [
        "Let's load the saved model to make predictions."
      ]
    },
    {
      "cell_type": "code",
      "execution_count": null,
      "metadata": {
        "colab": {
          "base_uri": "https://localhost:8080/"
        },
        "id": "6RF06wm9JRl7",
        "outputId": "62317d8d-48a3-4c9d-f66b-45fa5d950070"
      },
      "outputs": [
        {
          "output_type": "stream",
          "name": "stdout",
          "text": [
            "Downloading...\n",
            "From: https://drive.google.com/uc?id=1rJEUSIIjU_nUZ5KkH3TtUIxk0XECPhRy\n",
            "To: /content/ModelWeights.12_Mar_23.zip\n",
            "100% 89.7M/89.7M [00:01<00:00, 48.8MB/s]\n"
          ]
        }
      ],
      "source": [
        "!gdown 1rJEUSIIjU_nUZ5KkH3TtUIxk0XECPhRy"
      ]
    },
    {
      "cell_type": "code",
      "execution_count": null,
      "metadata": {
        "colab": {
          "base_uri": "https://localhost:8080/"
        },
        "id": "3HZqWql0Lc1L",
        "outputId": "ef051026-e8d6-41a5-c805-e1a74c32c095"
      },
      "outputs": [
        {
          "output_type": "stream",
          "name": "stdout",
          "text": [
            "Archive:  /content/ModelWeights.12_Mar_23.zip\n",
            "   creating: content/ModelWeights.12_Mar_23/\n",
            " extracting: content/ModelWeights.12_Mar_23/fingerprint.pb  \n",
            "   creating: content/ModelWeights.12_Mar_23/assets/\n",
            "   creating: content/ModelWeights.12_Mar_23/variables/\n",
            "  inflating: content/ModelWeights.12_Mar_23/variables/variables.index  \n",
            "  inflating: content/ModelWeights.12_Mar_23/variables/variables.data-00000-of-00001  \n",
            "  inflating: content/ModelWeights.12_Mar_23/saved_model.pb  \n",
            "  inflating: content/ModelWeights.12_Mar_23/keras_metadata.pb  \n"
          ]
        }
      ],
      "source": [
        "!unzip /content/ModelWeights.12_Mar_23.zip"
      ]
    },
    {
      "cell_type": "code",
      "execution_count": null,
      "metadata": {
        "colab": {
          "base_uri": "https://localhost:8080/"
        },
        "id": "WWrM4fMVzjtr",
        "outputId": "d0092170-37aa-4841-d0b6-721b7720e6a4"
      },
      "outputs": [
        {
          "output_type": "stream",
          "name": "stdout",
          "text": [
            "313/313 [==============================] - 3s 5ms/step\n"
          ]
        }
      ],
      "source": [
        "model = load_model('/content/content/ModelWeights.12_Mar_23')\n",
        "preds = model.predict(testX.reshape((testX.shape[0],testX.shape[1])))"
      ]
    },
    {
      "cell_type": "code",
      "execution_count": null,
      "metadata": {
        "id": "LRlWZ_4JBZnD"
      },
      "outputs": [],
      "source": [
        "preds = [np.argmax(i,axis=1) for i in preds]"
      ]
    },
    {
      "cell_type": "code",
      "execution_count": null,
      "metadata": {
        "id": "j6xQsk1Bdvar"
      },
      "outputs": [],
      "source": [
        "preds_text = eng_tokenizer.sequences_to_texts(preds)"
      ]
    },
    {
      "cell_type": "code",
      "execution_count": null,
      "metadata": {
        "id": "kqxmhYOLzjtt"
      },
      "outputs": [],
      "source": [
        "pred_df = pd.DataFrame({'actual' : test['English Sentence'], 'predicted' : preds_text})"
      ]
    },
    {
      "cell_type": "code",
      "execution_count": null,
      "metadata": {
        "colab": {
          "base_uri": "https://localhost:8080/",
          "height": 519
        },
        "id": "5NKwqgPedmEz",
        "outputId": "d7512af9-855a-4f87-d88e-358855af576e"
      },
      "outputs": [
        {
          "output_type": "execute_result",
          "data": {
            "text/plain": [
              "                     actual            predicted\n",
              "34622    tom is a true poet      tom is a a poet\n",
              "1163              tom knows            tom knows\n",
              "7637          tom phoned us        tom called us\n",
              "7045          please listen        please please\n",
              "43847   where have you been  where were you been\n",
              "40867   please listen to us     please listen to\n",
              "45653  have it your own way          do what you\n",
              "42099   tom felt humiliated   tom felt flattered\n",
              "17636      he wears glasses         he a glasses\n",
              "42703   tom may leave early      tom can to wait\n",
              "6155          i have braces      i have diarrhea\n",
              "1571             i said yes          i said said\n",
              "5514            youre right          youre right\n",
              "5403            wholl drive           wholl will\n",
              "14722       the room is hot      the room is hot"
            ],
            "text/html": [
              "\n",
              "  <div id=\"df-c3d3c39d-bdb4-4d6f-8f35-cb06e901ff4d\">\n",
              "    <div class=\"colab-df-container\">\n",
              "      <div>\n",
              "<style scoped>\n",
              "    .dataframe tbody tr th:only-of-type {\n",
              "        vertical-align: middle;\n",
              "    }\n",
              "\n",
              "    .dataframe tbody tr th {\n",
              "        vertical-align: top;\n",
              "    }\n",
              "\n",
              "    .dataframe thead th {\n",
              "        text-align: right;\n",
              "    }\n",
              "</style>\n",
              "<table border=\"1\" class=\"dataframe\">\n",
              "  <thead>\n",
              "    <tr style=\"text-align: right;\">\n",
              "      <th></th>\n",
              "      <th>actual</th>\n",
              "      <th>predicted</th>\n",
              "    </tr>\n",
              "  </thead>\n",
              "  <tbody>\n",
              "    <tr>\n",
              "      <th>34622</th>\n",
              "      <td>tom is a true poet</td>\n",
              "      <td>tom is a a poet</td>\n",
              "    </tr>\n",
              "    <tr>\n",
              "      <th>1163</th>\n",
              "      <td>tom knows</td>\n",
              "      <td>tom knows</td>\n",
              "    </tr>\n",
              "    <tr>\n",
              "      <th>7637</th>\n",
              "      <td>tom phoned us</td>\n",
              "      <td>tom called us</td>\n",
              "    </tr>\n",
              "    <tr>\n",
              "      <th>7045</th>\n",
              "      <td>please listen</td>\n",
              "      <td>please please</td>\n",
              "    </tr>\n",
              "    <tr>\n",
              "      <th>43847</th>\n",
              "      <td>where have you been</td>\n",
              "      <td>where were you been</td>\n",
              "    </tr>\n",
              "    <tr>\n",
              "      <th>40867</th>\n",
              "      <td>please listen to us</td>\n",
              "      <td>please listen to</td>\n",
              "    </tr>\n",
              "    <tr>\n",
              "      <th>45653</th>\n",
              "      <td>have it your own way</td>\n",
              "      <td>do what you</td>\n",
              "    </tr>\n",
              "    <tr>\n",
              "      <th>42099</th>\n",
              "      <td>tom felt humiliated</td>\n",
              "      <td>tom felt flattered</td>\n",
              "    </tr>\n",
              "    <tr>\n",
              "      <th>17636</th>\n",
              "      <td>he wears glasses</td>\n",
              "      <td>he a glasses</td>\n",
              "    </tr>\n",
              "    <tr>\n",
              "      <th>42703</th>\n",
              "      <td>tom may leave early</td>\n",
              "      <td>tom can to wait</td>\n",
              "    </tr>\n",
              "    <tr>\n",
              "      <th>6155</th>\n",
              "      <td>i have braces</td>\n",
              "      <td>i have diarrhea</td>\n",
              "    </tr>\n",
              "    <tr>\n",
              "      <th>1571</th>\n",
              "      <td>i said yes</td>\n",
              "      <td>i said said</td>\n",
              "    </tr>\n",
              "    <tr>\n",
              "      <th>5514</th>\n",
              "      <td>youre right</td>\n",
              "      <td>youre right</td>\n",
              "    </tr>\n",
              "    <tr>\n",
              "      <th>5403</th>\n",
              "      <td>wholl drive</td>\n",
              "      <td>wholl will</td>\n",
              "    </tr>\n",
              "    <tr>\n",
              "      <th>14722</th>\n",
              "      <td>the room is hot</td>\n",
              "      <td>the room is hot</td>\n",
              "    </tr>\n",
              "  </tbody>\n",
              "</table>\n",
              "</div>\n",
              "      <button class=\"colab-df-convert\" onclick=\"convertToInteractive('df-c3d3c39d-bdb4-4d6f-8f35-cb06e901ff4d')\"\n",
              "              title=\"Convert this dataframe to an interactive table.\"\n",
              "              style=\"display:none;\">\n",
              "        \n",
              "  <svg xmlns=\"http://www.w3.org/2000/svg\" height=\"24px\"viewBox=\"0 0 24 24\"\n",
              "       width=\"24px\">\n",
              "    <path d=\"M0 0h24v24H0V0z\" fill=\"none\"/>\n",
              "    <path d=\"M18.56 5.44l.94 2.06.94-2.06 2.06-.94-2.06-.94-.94-2.06-.94 2.06-2.06.94zm-11 1L8.5 8.5l.94-2.06 2.06-.94-2.06-.94L8.5 2.5l-.94 2.06-2.06.94zm10 10l.94 2.06.94-2.06 2.06-.94-2.06-.94-.94-2.06-.94 2.06-2.06.94z\"/><path d=\"M17.41 7.96l-1.37-1.37c-.4-.4-.92-.59-1.43-.59-.52 0-1.04.2-1.43.59L10.3 9.45l-7.72 7.72c-.78.78-.78 2.05 0 2.83L4 21.41c.39.39.9.59 1.41.59.51 0 1.02-.2 1.41-.59l7.78-7.78 2.81-2.81c.8-.78.8-2.07 0-2.86zM5.41 20L4 18.59l7.72-7.72 1.47 1.35L5.41 20z\"/>\n",
              "  </svg>\n",
              "      </button>\n",
              "      \n",
              "  <style>\n",
              "    .colab-df-container {\n",
              "      display:flex;\n",
              "      flex-wrap:wrap;\n",
              "      gap: 12px;\n",
              "    }\n",
              "\n",
              "    .colab-df-convert {\n",
              "      background-color: #E8F0FE;\n",
              "      border: none;\n",
              "      border-radius: 50%;\n",
              "      cursor: pointer;\n",
              "      display: none;\n",
              "      fill: #1967D2;\n",
              "      height: 32px;\n",
              "      padding: 0 0 0 0;\n",
              "      width: 32px;\n",
              "    }\n",
              "\n",
              "    .colab-df-convert:hover {\n",
              "      background-color: #E2EBFA;\n",
              "      box-shadow: 0px 1px 2px rgba(60, 64, 67, 0.3), 0px 1px 3px 1px rgba(60, 64, 67, 0.15);\n",
              "      fill: #174EA6;\n",
              "    }\n",
              "\n",
              "    [theme=dark] .colab-df-convert {\n",
              "      background-color: #3B4455;\n",
              "      fill: #D2E3FC;\n",
              "    }\n",
              "\n",
              "    [theme=dark] .colab-df-convert:hover {\n",
              "      background-color: #434B5C;\n",
              "      box-shadow: 0px 1px 3px 1px rgba(0, 0, 0, 0.15);\n",
              "      filter: drop-shadow(0px 1px 2px rgba(0, 0, 0, 0.3));\n",
              "      fill: #FFFFFF;\n",
              "    }\n",
              "  </style>\n",
              "\n",
              "      <script>\n",
              "        const buttonEl =\n",
              "          document.querySelector('#df-c3d3c39d-bdb4-4d6f-8f35-cb06e901ff4d button.colab-df-convert');\n",
              "        buttonEl.style.display =\n",
              "          google.colab.kernel.accessAllowed ? 'block' : 'none';\n",
              "\n",
              "        async function convertToInteractive(key) {\n",
              "          const element = document.querySelector('#df-c3d3c39d-bdb4-4d6f-8f35-cb06e901ff4d');\n",
              "          const dataTable =\n",
              "            await google.colab.kernel.invokeFunction('convertToInteractive',\n",
              "                                                     [key], {});\n",
              "          if (!dataTable) return;\n",
              "\n",
              "          const docLinkHtml = 'Like what you see? Visit the ' +\n",
              "            '<a target=\"_blank\" href=https://colab.research.google.com/notebooks/data_table.ipynb>data table notebook</a>'\n",
              "            + ' to learn more about interactive tables.';\n",
              "          element.innerHTML = '';\n",
              "          dataTable['output_type'] = 'display_data';\n",
              "          await google.colab.output.renderOutput(dataTable, element);\n",
              "          const docLink = document.createElement('div');\n",
              "          docLink.innerHTML = docLinkHtml;\n",
              "          element.appendChild(docLink);\n",
              "        }\n",
              "      </script>\n",
              "    </div>\n",
              "  </div>\n",
              "  "
            ]
          },
          "metadata": {},
          "execution_count": 37
        }
      ],
      "source": [
        "pred_df.head(15)"
      ]
    },
    {
      "cell_type": "code",
      "execution_count": null,
      "metadata": {
        "colab": {
          "base_uri": "https://localhost:8080/",
          "height": 519
        },
        "id": "ZSJERht6NyWY",
        "outputId": "9b045cf5-46fb-42f0-f0fe-dfa7a3e18d29"
      },
      "outputs": [
        {
          "output_type": "execute_result",
          "data": {
            "text/plain": [
              "                    actual             predicted\n",
              "23752    how do we find it       how do we do it\n",
              "15259      tom is far away           tom is gone\n",
              "27822    tom peeked inside       tom went inside\n",
              "31871   i was scared stiff        i had a stroke\n",
              "22059     what is he doing       what does he do\n",
              "24787    i was tired today     i was quite today\n",
              "16690     a deal is a deal        smoking is dry\n",
              "1980            tom paused             tom began\n",
              "36656    youre always busy     youre always busy\n",
              "12835       i cant breathe           i dont live\n",
              "29299    you must be crazy       youre are crazy\n",
              "29224    you have to start     you have to start\n",
              "16503      you should rest  you should rest rest\n",
              "40559  mom is always right        think is right\n",
              "24396    i like to do that       i enjoy do that"
            ],
            "text/html": [
              "\n",
              "  <div id=\"df-f1999795-3747-49c6-9ebd-5f02a1174a40\">\n",
              "    <div class=\"colab-df-container\">\n",
              "      <div>\n",
              "<style scoped>\n",
              "    .dataframe tbody tr th:only-of-type {\n",
              "        vertical-align: middle;\n",
              "    }\n",
              "\n",
              "    .dataframe tbody tr th {\n",
              "        vertical-align: top;\n",
              "    }\n",
              "\n",
              "    .dataframe thead th {\n",
              "        text-align: right;\n",
              "    }\n",
              "</style>\n",
              "<table border=\"1\" class=\"dataframe\">\n",
              "  <thead>\n",
              "    <tr style=\"text-align: right;\">\n",
              "      <th></th>\n",
              "      <th>actual</th>\n",
              "      <th>predicted</th>\n",
              "    </tr>\n",
              "  </thead>\n",
              "  <tbody>\n",
              "    <tr>\n",
              "      <th>23752</th>\n",
              "      <td>how do we find it</td>\n",
              "      <td>how do we do it</td>\n",
              "    </tr>\n",
              "    <tr>\n",
              "      <th>15259</th>\n",
              "      <td>tom is far away</td>\n",
              "      <td>tom is gone</td>\n",
              "    </tr>\n",
              "    <tr>\n",
              "      <th>27822</th>\n",
              "      <td>tom peeked inside</td>\n",
              "      <td>tom went inside</td>\n",
              "    </tr>\n",
              "    <tr>\n",
              "      <th>31871</th>\n",
              "      <td>i was scared stiff</td>\n",
              "      <td>i had a stroke</td>\n",
              "    </tr>\n",
              "    <tr>\n",
              "      <th>22059</th>\n",
              "      <td>what is he doing</td>\n",
              "      <td>what does he do</td>\n",
              "    </tr>\n",
              "    <tr>\n",
              "      <th>24787</th>\n",
              "      <td>i was tired today</td>\n",
              "      <td>i was quite today</td>\n",
              "    </tr>\n",
              "    <tr>\n",
              "      <th>16690</th>\n",
              "      <td>a deal is a deal</td>\n",
              "      <td>smoking is dry</td>\n",
              "    </tr>\n",
              "    <tr>\n",
              "      <th>1980</th>\n",
              "      <td>tom paused</td>\n",
              "      <td>tom began</td>\n",
              "    </tr>\n",
              "    <tr>\n",
              "      <th>36656</th>\n",
              "      <td>youre always busy</td>\n",
              "      <td>youre always busy</td>\n",
              "    </tr>\n",
              "    <tr>\n",
              "      <th>12835</th>\n",
              "      <td>i cant breathe</td>\n",
              "      <td>i dont live</td>\n",
              "    </tr>\n",
              "    <tr>\n",
              "      <th>29299</th>\n",
              "      <td>you must be crazy</td>\n",
              "      <td>youre are crazy</td>\n",
              "    </tr>\n",
              "    <tr>\n",
              "      <th>29224</th>\n",
              "      <td>you have to start</td>\n",
              "      <td>you have to start</td>\n",
              "    </tr>\n",
              "    <tr>\n",
              "      <th>16503</th>\n",
              "      <td>you should rest</td>\n",
              "      <td>you should rest rest</td>\n",
              "    </tr>\n",
              "    <tr>\n",
              "      <th>40559</th>\n",
              "      <td>mom is always right</td>\n",
              "      <td>think is right</td>\n",
              "    </tr>\n",
              "    <tr>\n",
              "      <th>24396</th>\n",
              "      <td>i like to do that</td>\n",
              "      <td>i enjoy do that</td>\n",
              "    </tr>\n",
              "  </tbody>\n",
              "</table>\n",
              "</div>\n",
              "      <button class=\"colab-df-convert\" onclick=\"convertToInteractive('df-f1999795-3747-49c6-9ebd-5f02a1174a40')\"\n",
              "              title=\"Convert this dataframe to an interactive table.\"\n",
              "              style=\"display:none;\">\n",
              "        \n",
              "  <svg xmlns=\"http://www.w3.org/2000/svg\" height=\"24px\"viewBox=\"0 0 24 24\"\n",
              "       width=\"24px\">\n",
              "    <path d=\"M0 0h24v24H0V0z\" fill=\"none\"/>\n",
              "    <path d=\"M18.56 5.44l.94 2.06.94-2.06 2.06-.94-2.06-.94-.94-2.06-.94 2.06-2.06.94zm-11 1L8.5 8.5l.94-2.06 2.06-.94-2.06-.94L8.5 2.5l-.94 2.06-2.06.94zm10 10l.94 2.06.94-2.06 2.06-.94-2.06-.94-.94-2.06-.94 2.06-2.06.94z\"/><path d=\"M17.41 7.96l-1.37-1.37c-.4-.4-.92-.59-1.43-.59-.52 0-1.04.2-1.43.59L10.3 9.45l-7.72 7.72c-.78.78-.78 2.05 0 2.83L4 21.41c.39.39.9.59 1.41.59.51 0 1.02-.2 1.41-.59l7.78-7.78 2.81-2.81c.8-.78.8-2.07 0-2.86zM5.41 20L4 18.59l7.72-7.72 1.47 1.35L5.41 20z\"/>\n",
              "  </svg>\n",
              "      </button>\n",
              "      \n",
              "  <style>\n",
              "    .colab-df-container {\n",
              "      display:flex;\n",
              "      flex-wrap:wrap;\n",
              "      gap: 12px;\n",
              "    }\n",
              "\n",
              "    .colab-df-convert {\n",
              "      background-color: #E8F0FE;\n",
              "      border: none;\n",
              "      border-radius: 50%;\n",
              "      cursor: pointer;\n",
              "      display: none;\n",
              "      fill: #1967D2;\n",
              "      height: 32px;\n",
              "      padding: 0 0 0 0;\n",
              "      width: 32px;\n",
              "    }\n",
              "\n",
              "    .colab-df-convert:hover {\n",
              "      background-color: #E2EBFA;\n",
              "      box-shadow: 0px 1px 2px rgba(60, 64, 67, 0.3), 0px 1px 3px 1px rgba(60, 64, 67, 0.15);\n",
              "      fill: #174EA6;\n",
              "    }\n",
              "\n",
              "    [theme=dark] .colab-df-convert {\n",
              "      background-color: #3B4455;\n",
              "      fill: #D2E3FC;\n",
              "    }\n",
              "\n",
              "    [theme=dark] .colab-df-convert:hover {\n",
              "      background-color: #434B5C;\n",
              "      box-shadow: 0px 1px 3px 1px rgba(0, 0, 0, 0.15);\n",
              "      filter: drop-shadow(0px 1px 2px rgba(0, 0, 0, 0.3));\n",
              "      fill: #FFFFFF;\n",
              "    }\n",
              "  </style>\n",
              "\n",
              "      <script>\n",
              "        const buttonEl =\n",
              "          document.querySelector('#df-f1999795-3747-49c6-9ebd-5f02a1174a40 button.colab-df-convert');\n",
              "        buttonEl.style.display =\n",
              "          google.colab.kernel.accessAllowed ? 'block' : 'none';\n",
              "\n",
              "        async function convertToInteractive(key) {\n",
              "          const element = document.querySelector('#df-f1999795-3747-49c6-9ebd-5f02a1174a40');\n",
              "          const dataTable =\n",
              "            await google.colab.kernel.invokeFunction('convertToInteractive',\n",
              "                                                     [key], {});\n",
              "          if (!dataTable) return;\n",
              "\n",
              "          const docLinkHtml = 'Like what you see? Visit the ' +\n",
              "            '<a target=\"_blank\" href=https://colab.research.google.com/notebooks/data_table.ipynb>data table notebook</a>'\n",
              "            + ' to learn more about interactive tables.';\n",
              "          element.innerHTML = '';\n",
              "          dataTable['output_type'] = 'display_data';\n",
              "          await google.colab.output.renderOutput(dataTable, element);\n",
              "          const docLink = document.createElement('div');\n",
              "          docLink.innerHTML = docLinkHtml;\n",
              "          element.appendChild(docLink);\n",
              "        }\n",
              "      </script>\n",
              "    </div>\n",
              "  </div>\n",
              "  "
            ]
          },
          "metadata": {},
          "execution_count": 38
        }
      ],
      "source": [
        "pred_df.tail(15)"
      ]
    },
    {
      "cell_type": "markdown",
      "metadata": {
        "id": "yrVMQKVffKi0"
      },
      "source": [
        "## Lab Task: Define a function to calculate the BLEU Score between the actual and the predicted sentence and apply it on the preds_df dataframe\n",
        "https://machinelearningmastery.com/calculate-bleu-score-for-text-python/"
      ]
    },
    {
      "cell_type": "code",
      "execution_count": null,
      "metadata": {
        "id": "srXNo2g_W5UG"
      },
      "outputs": [],
      "source": [
        "from nltk.translate.bleu_score import sentence_bleu\n",
        "def bleu(text):\n",
        "    \n",
        "    reference = text['actual']\n",
        "    candidate = text['predicted']\n",
        "\n",
        "    score = sentence_bleu(reference, candidate)\n",
        "    return score\n",
        "\n",
        "\n",
        "pred_df['bleu_score'] = np.zeros(len(pred_df))\n",
        "for i in range(len(pred_df)):\n",
        "    pred_df['bleu_score'].iloc[i] = bleu(pred_df.iloc[i,:])"
      ]
    },
    {
      "cell_type": "code",
      "execution_count": 47,
      "metadata": {
        "id": "XoT9ywm_dxJC",
        "colab": {
          "base_uri": "https://localhost:8080/",
          "height": 423
        },
        "outputId": "3a433687-afcc-454d-8efe-ab9c2cf6d429"
      },
      "outputs": [
        {
          "output_type": "execute_result",
          "data": {
            "text/plain": [
              "                    actual             predicted     bleu_score\n",
              "34622   tom is a true poet       tom is a a poet  1.603416e-231\n",
              "1163             tom knows             tom knows  1.768969e-231\n",
              "7637         tom phoned us         tom called us  1.613597e-231\n",
              "7045         please listen         please please  1.501621e-231\n",
              "43847  where have you been   where were you been  1.551743e-231\n",
              "...                    ...                   ...            ...\n",
              "29299    you must be crazy       youre are crazy  1.603416e-231\n",
              "29224    you have to start     you have to start  1.633971e-231\n",
              "16503      you should rest  you should rest rest  1.568913e-231\n",
              "40559  mom is always right        think is right  1.531972e-231\n",
              "24396    i like to do that       i enjoy do that  1.556890e-231\n",
              "\n",
              "[10000 rows x 3 columns]"
            ],
            "text/html": [
              "\n",
              "  <div id=\"df-3bf8c7d6-3b42-4dec-8062-58dbdb798a63\">\n",
              "    <div class=\"colab-df-container\">\n",
              "      <div>\n",
              "<style scoped>\n",
              "    .dataframe tbody tr th:only-of-type {\n",
              "        vertical-align: middle;\n",
              "    }\n",
              "\n",
              "    .dataframe tbody tr th {\n",
              "        vertical-align: top;\n",
              "    }\n",
              "\n",
              "    .dataframe thead th {\n",
              "        text-align: right;\n",
              "    }\n",
              "</style>\n",
              "<table border=\"1\" class=\"dataframe\">\n",
              "  <thead>\n",
              "    <tr style=\"text-align: right;\">\n",
              "      <th></th>\n",
              "      <th>actual</th>\n",
              "      <th>predicted</th>\n",
              "      <th>bleu_score</th>\n",
              "    </tr>\n",
              "  </thead>\n",
              "  <tbody>\n",
              "    <tr>\n",
              "      <th>34622</th>\n",
              "      <td>tom is a true poet</td>\n",
              "      <td>tom is a a poet</td>\n",
              "      <td>1.603416e-231</td>\n",
              "    </tr>\n",
              "    <tr>\n",
              "      <th>1163</th>\n",
              "      <td>tom knows</td>\n",
              "      <td>tom knows</td>\n",
              "      <td>1.768969e-231</td>\n",
              "    </tr>\n",
              "    <tr>\n",
              "      <th>7637</th>\n",
              "      <td>tom phoned us</td>\n",
              "      <td>tom called us</td>\n",
              "      <td>1.613597e-231</td>\n",
              "    </tr>\n",
              "    <tr>\n",
              "      <th>7045</th>\n",
              "      <td>please listen</td>\n",
              "      <td>please please</td>\n",
              "      <td>1.501621e-231</td>\n",
              "    </tr>\n",
              "    <tr>\n",
              "      <th>43847</th>\n",
              "      <td>where have you been</td>\n",
              "      <td>where were you been</td>\n",
              "      <td>1.551743e-231</td>\n",
              "    </tr>\n",
              "    <tr>\n",
              "      <th>...</th>\n",
              "      <td>...</td>\n",
              "      <td>...</td>\n",
              "      <td>...</td>\n",
              "    </tr>\n",
              "    <tr>\n",
              "      <th>29299</th>\n",
              "      <td>you must be crazy</td>\n",
              "      <td>youre are crazy</td>\n",
              "      <td>1.603416e-231</td>\n",
              "    </tr>\n",
              "    <tr>\n",
              "      <th>29224</th>\n",
              "      <td>you have to start</td>\n",
              "      <td>you have to start</td>\n",
              "      <td>1.633971e-231</td>\n",
              "    </tr>\n",
              "    <tr>\n",
              "      <th>16503</th>\n",
              "      <td>you should rest</td>\n",
              "      <td>you should rest rest</td>\n",
              "      <td>1.568913e-231</td>\n",
              "    </tr>\n",
              "    <tr>\n",
              "      <th>40559</th>\n",
              "      <td>mom is always right</td>\n",
              "      <td>think is right</td>\n",
              "      <td>1.531972e-231</td>\n",
              "    </tr>\n",
              "    <tr>\n",
              "      <th>24396</th>\n",
              "      <td>i like to do that</td>\n",
              "      <td>i enjoy do that</td>\n",
              "      <td>1.556890e-231</td>\n",
              "    </tr>\n",
              "  </tbody>\n",
              "</table>\n",
              "<p>10000 rows × 3 columns</p>\n",
              "</div>\n",
              "      <button class=\"colab-df-convert\" onclick=\"convertToInteractive('df-3bf8c7d6-3b42-4dec-8062-58dbdb798a63')\"\n",
              "              title=\"Convert this dataframe to an interactive table.\"\n",
              "              style=\"display:none;\">\n",
              "        \n",
              "  <svg xmlns=\"http://www.w3.org/2000/svg\" height=\"24px\"viewBox=\"0 0 24 24\"\n",
              "       width=\"24px\">\n",
              "    <path d=\"M0 0h24v24H0V0z\" fill=\"none\"/>\n",
              "    <path d=\"M18.56 5.44l.94 2.06.94-2.06 2.06-.94-2.06-.94-.94-2.06-.94 2.06-2.06.94zm-11 1L8.5 8.5l.94-2.06 2.06-.94-2.06-.94L8.5 2.5l-.94 2.06-2.06.94zm10 10l.94 2.06.94-2.06 2.06-.94-2.06-.94-.94-2.06-.94 2.06-2.06.94z\"/><path d=\"M17.41 7.96l-1.37-1.37c-.4-.4-.92-.59-1.43-.59-.52 0-1.04.2-1.43.59L10.3 9.45l-7.72 7.72c-.78.78-.78 2.05 0 2.83L4 21.41c.39.39.9.59 1.41.59.51 0 1.02-.2 1.41-.59l7.78-7.78 2.81-2.81c.8-.78.8-2.07 0-2.86zM5.41 20L4 18.59l7.72-7.72 1.47 1.35L5.41 20z\"/>\n",
              "  </svg>\n",
              "      </button>\n",
              "      \n",
              "  <style>\n",
              "    .colab-df-container {\n",
              "      display:flex;\n",
              "      flex-wrap:wrap;\n",
              "      gap: 12px;\n",
              "    }\n",
              "\n",
              "    .colab-df-convert {\n",
              "      background-color: #E8F0FE;\n",
              "      border: none;\n",
              "      border-radius: 50%;\n",
              "      cursor: pointer;\n",
              "      display: none;\n",
              "      fill: #1967D2;\n",
              "      height: 32px;\n",
              "      padding: 0 0 0 0;\n",
              "      width: 32px;\n",
              "    }\n",
              "\n",
              "    .colab-df-convert:hover {\n",
              "      background-color: #E2EBFA;\n",
              "      box-shadow: 0px 1px 2px rgba(60, 64, 67, 0.3), 0px 1px 3px 1px rgba(60, 64, 67, 0.15);\n",
              "      fill: #174EA6;\n",
              "    }\n",
              "\n",
              "    [theme=dark] .colab-df-convert {\n",
              "      background-color: #3B4455;\n",
              "      fill: #D2E3FC;\n",
              "    }\n",
              "\n",
              "    [theme=dark] .colab-df-convert:hover {\n",
              "      background-color: #434B5C;\n",
              "      box-shadow: 0px 1px 3px 1px rgba(0, 0, 0, 0.15);\n",
              "      filter: drop-shadow(0px 1px 2px rgba(0, 0, 0, 0.3));\n",
              "      fill: #FFFFFF;\n",
              "    }\n",
              "  </style>\n",
              "\n",
              "      <script>\n",
              "        const buttonEl =\n",
              "          document.querySelector('#df-3bf8c7d6-3b42-4dec-8062-58dbdb798a63 button.colab-df-convert');\n",
              "        buttonEl.style.display =\n",
              "          google.colab.kernel.accessAllowed ? 'block' : 'none';\n",
              "\n",
              "        async function convertToInteractive(key) {\n",
              "          const element = document.querySelector('#df-3bf8c7d6-3b42-4dec-8062-58dbdb798a63');\n",
              "          const dataTable =\n",
              "            await google.colab.kernel.invokeFunction('convertToInteractive',\n",
              "                                                     [key], {});\n",
              "          if (!dataTable) return;\n",
              "\n",
              "          const docLinkHtml = 'Like what you see? Visit the ' +\n",
              "            '<a target=\"_blank\" href=https://colab.research.google.com/notebooks/data_table.ipynb>data table notebook</a>'\n",
              "            + ' to learn more about interactive tables.';\n",
              "          element.innerHTML = '';\n",
              "          dataTable['output_type'] = 'display_data';\n",
              "          await google.colab.output.renderOutput(dataTable, element);\n",
              "          const docLink = document.createElement('div');\n",
              "          docLink.innerHTML = docLinkHtml;\n",
              "          element.appendChild(docLink);\n",
              "        }\n",
              "      </script>\n",
              "    </div>\n",
              "  </div>\n",
              "  "
            ]
          },
          "metadata": {},
          "execution_count": 47
        }
      ],
      "source": [
        "pred_df"
      ]
    }
  ],
  "metadata": {
    "accelerator": "GPU",
    "colab": {
      "provenance": []
    },
    "gpuClass": "standard",
    "kernelspec": {
      "display_name": "Python 3",
      "language": "python",
      "name": "python3"
    },
    "language_info": {
      "codemirror_mode": {
        "name": "ipython",
        "version": 3
      },
      "file_extension": ".py",
      "mimetype": "text/x-python",
      "name": "python",
      "nbconvert_exporter": "python",
      "pygments_lexer": "ipython3",
      "version": "3.11.1"
    }
  },
  "nbformat": 4,
  "nbformat_minor": 0
}